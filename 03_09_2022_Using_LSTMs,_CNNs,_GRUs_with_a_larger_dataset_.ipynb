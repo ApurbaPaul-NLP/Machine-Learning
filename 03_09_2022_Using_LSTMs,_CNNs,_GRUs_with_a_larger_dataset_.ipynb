{
  "nbformat": 4,
  "nbformat_minor": 0,
  "metadata": {
    "colab": {
      "provenance": [],
      "mount_file_id": "1OiCkgGBbwxqSUwWhXI19uReDtr9mdsnS",
      "authorship_tag": "ABX9TyNdWZ8YjYRzRZA3TGNgS9i/",
      "include_colab_link": true
    },
    "kernelspec": {
      "name": "python3",
      "display_name": "Python 3"
    },
    "language_info": {
      "name": "python"
    },
    "accelerator": "GPU",
    "gpuClass": "standard"
  },
  "cells": [
    {
      "cell_type": "markdown",
      "metadata": {
        "id": "view-in-github",
        "colab_type": "text"
      },
      "source": [
        "<a href=\"https://colab.research.google.com/github/ApurbaPaul-NLP/Machine-Learning/blob/main/03_09_2022_Using_LSTMs%2C_CNNs%2C_GRUs_with_a_larger_dataset_.ipynb\" target=\"_parent\"><img src=\"https://colab.research.google.com/assets/colab-badge.svg\" alt=\"Open In Colab\"/></a>"
      ]
    },
    {
      "cell_type": "code",
      "execution_count": 1,
      "metadata": {
        "id": "JESTfB_meRTQ"
      },
      "outputs": [],
      "source": [
        "import tensorflow as tf\n",
        "import tensorflow_datasets as tfds\n",
        "\n",
        "import numpy as np\n"
      ]
    },
    {
      "cell_type": "code",
      "source": [
        "# Get the dataset.\n",
        "# It has 70000 items, so might take a while to download\n",
        "dataset, info = tfds.load('glue/sst2', with_info=True)\n",
        "print(info.features)\n",
        "print(info.features[\"label\"].num_classes)\n",
        "print(info.features[\"label\"].names)"
      ],
      "metadata": {
        "id": "gblDhiE1ez3g"
      },
      "execution_count": null,
      "outputs": []
    },
    {
      "cell_type": "code",
      "source": [
        "# Get the training and validation datasets\n",
        "dataset_train, dataset_validation = dataset['train'], dataset['validation']\n",
        "dataset_train"
      ],
      "metadata": {
        "colab": {
          "base_uri": "https://localhost:8080/"
        },
        "id": "LT579taPfF3N",
        "outputId": "9d1ce2b4-3613-4656-9385-3a9ac9a4b945"
      },
      "execution_count": 3,
      "outputs": [
        {
          "output_type": "execute_result",
          "data": {
            "text/plain": [
              "<PrefetchDataset element_spec={'idx': TensorSpec(shape=(), dtype=tf.int32, name=None), 'label': TensorSpec(shape=(), dtype=tf.int64, name=None), 'sentence': TensorSpec(shape=(), dtype=tf.string, name=None)}>"
            ]
          },
          "metadata": {},
          "execution_count": 3
        }
      ]
    },
    {
      "cell_type": "code",
      "source": [
        "# Print some of the entries\n",
        "for example in dataset_train.take(2):  \n",
        "  review, label = example[\"sentence\"], example[\"label\"]\n",
        "  print(\"Review:\", review.numpy())\n",
        "  print(\"Label: %d \\n\" % label.numpy())"
      ],
      "metadata": {
        "colab": {
          "base_uri": "https://localhost:8080/"
        },
        "id": "n5sYq2vGfJyz",
        "outputId": "f7f4b02d-a0cd-4a02-9379-0793d46ab121"
      },
      "execution_count": 5,
      "outputs": [
        {
          "output_type": "stream",
          "name": "stdout",
          "text": [
            "Review: b'for the uninitiated plays better on video with the sound '\n",
            "Label: 0 \n",
            "\n",
            "Review: b'like a giant commercial for universal studios , where much of the action takes place '\n",
            "Label: 0 \n",
            "\n"
          ]
        }
      ]
    },
    {
      "cell_type": "code",
      "source": [
        "# Get the sentences and the labels\n",
        "# for both the training and the validation sets\n",
        "training_reviews = []\n",
        "training_labels = []\n",
        " \n",
        "validation_reviews = []\n",
        "validation_labels = []\n",
        "\n",
        "# The dataset has 67,000 training entries, but that's a lot to process here!\n",
        "\n",
        "# If you want to take the entire dataset: WARNING: takes longer!!\n",
        "# for item in dataset_train.take(-1):\n",
        "\n",
        "# Take 10,000 reviews\n",
        "for item in dataset_train.take(10000):\n",
        "  review, label = item[\"sentence\"], item[\"label\"]\n",
        "  training_reviews.append(str(review.numpy()))\n",
        "  training_labels.append(label.numpy())\n",
        "\n",
        "print (\"\\nNumber of training reviews is: \", len(training_reviews))\n",
        "\n",
        "# print some of the reviews and labels\n",
        "for i in range(0, 2):\n",
        "  print (training_reviews[i])\n",
        "  print (training_labels[i])\n",
        "\n",
        "# Get the validation data\n",
        "# there's only about 800 items, so take them all\n",
        "for item in dataset_validation.take(-1):  \n",
        "  review, label = item[\"sentence\"], item[\"label\"]\n",
        "  validation_reviews.append(str(review.numpy()))\n",
        "  validation_labels.append(label.numpy())\n",
        "\n",
        "print (\"\\nNumber of validation reviews is: \", len(validation_reviews))\n",
        "\n",
        "# Print some of the validation reviews and labels\n",
        "for i in range(0, 2):\n",
        "  print (validation_reviews[i])\n",
        "  print (validation_labels[i])"
      ],
      "metadata": {
        "colab": {
          "base_uri": "https://localhost:8080/"
        },
        "id": "UJT3jbwmfSF7",
        "outputId": "45491530-0d84-4aae-d839-3af54355fd9b"
      },
      "execution_count": 6,
      "outputs": [
        {
          "output_type": "stream",
          "name": "stdout",
          "text": [
            "\n",
            "Number of training reviews is:  10000\n",
            "b'for the uninitiated plays better on video with the sound '\n",
            "0\n",
            "b'like a giant commercial for universal studios , where much of the action takes place '\n",
            "0\n",
            "\n",
            "Number of validation reviews is:  872\n",
            "b'a valueless kiddie paean to pro basketball underwritten by the nba . '\n",
            "0\n",
            "b\"featuring a dangerously seductive performance from the great daniel auteuil , `` sade '' covers the same period as kaufmann 's `` quills '' with more unsettlingly realistic results . \"\n",
            "1\n"
          ]
        }
      ]
    },
    {
      "cell_type": "code",
      "source": [
        "# There's a total of 21224 words in the reviews\n",
        "# but many of them are irrelevant like with, it, of, on.\n",
        "# If we take a subset of the training data, then the vocab\n",
        "# will be smaller.\n",
        "\n",
        "# A reasonable review might have about 50 words or so,\n",
        "# so we can set max_length to 50 (but feel free to change it as you like)\n",
        "\n",
        "vocab_size = 4000\n",
        "embedding_dim = 16\n",
        "max_length = 50\n",
        "trunc_type='post'\n",
        "pad_type='post'\n",
        "oov_tok = \"<OOV>\"\n",
        "\n",
        "from tensorflow.keras.preprocessing.text import Tokenizer\n",
        "from tensorflow.keras.preprocessing.sequence import pad_sequences\n",
        "\n",
        "tokenizer = Tokenizer(num_words = vocab_size, oov_token=oov_tok)\n",
        "tokenizer.fit_on_texts(training_reviews)\n",
        "word_index = tokenizer.word_index"
      ],
      "metadata": {
        "id": "kKCHwHp7feXI"
      },
      "execution_count": 7,
      "outputs": []
    },
    {
      "cell_type": "code",
      "source": [
        "# Pad the sequences so that they are all the same length\n",
        "training_sequences = tokenizer.texts_to_sequences(training_reviews)\n",
        "training_padded = pad_sequences(training_sequences,maxlen=max_length, \n",
        "                                truncating=trunc_type, padding=pad_type)\n",
        "\n",
        "validation_sequences = tokenizer.texts_to_sequences(validation_reviews)\n",
        "validation_padded = pad_sequences(validation_sequences,maxlen=max_length)\n",
        "\n",
        "training_labels_final = np.array(training_labels)\n",
        "validation_labels_final = np.array(validation_labels)"
      ],
      "metadata": {
        "id": "I5cqHVlSfmku"
      },
      "execution_count": 8,
      "outputs": []
    },
    {
      "cell_type": "code",
      "source": [
        "model = tf.keras.Sequential([\n",
        "    tf.keras.layers.Embedding(vocab_size, embedding_dim, input_length=max_length),\n",
        "    tf.keras.layers.GlobalAveragePooling1D(),  \n",
        "    tf.keras.layers.Dense(1, activation='sigmoid')\n",
        "])\n",
        "model.compile(loss='binary_crossentropy',optimizer='adam',metrics=['accuracy'])\n",
        "model.summary()"
      ],
      "metadata": {
        "colab": {
          "base_uri": "https://localhost:8080/"
        },
        "id": "muYHnDD3gBOy",
        "outputId": "c30ed10b-6df9-42cc-88ef-8624c652d130"
      },
      "execution_count": 9,
      "outputs": [
        {
          "output_type": "stream",
          "name": "stdout",
          "text": [
            "Model: \"sequential\"\n",
            "_________________________________________________________________\n",
            " Layer (type)                Output Shape              Param #   \n",
            "=================================================================\n",
            " embedding (Embedding)       (None, 50, 16)            64000     \n",
            "                                                                 \n",
            " global_average_pooling1d (G  (None, 16)               0         \n",
            " lobalAveragePooling1D)                                          \n",
            "                                                                 \n",
            " dense (Dense)               (None, 1)                 17        \n",
            "                                                                 \n",
            "=================================================================\n",
            "Total params: 64,017\n",
            "Trainable params: 64,017\n",
            "Non-trainable params: 0\n",
            "_________________________________________________________________\n"
          ]
        }
      ]
    },
    {
      "cell_type": "code",
      "source": [
        "num_epochs = 20\n",
        "history = model.fit(training_padded, training_labels_final, epochs=num_epochs, \n",
        "                    validation_data=(validation_padded, validation_labels_final))"
      ],
      "metadata": {
        "colab": {
          "base_uri": "https://localhost:8080/"
        },
        "id": "d6I29pEGgGY5",
        "outputId": "aec9e7af-2a57-44f6-ad0f-7aae5cd022de"
      },
      "execution_count": 10,
      "outputs": [
        {
          "output_type": "stream",
          "name": "stdout",
          "text": [
            "Epoch 1/20\n",
            "313/313 [==============================] - 5s 4ms/step - loss: 0.6837 - accuracy: 0.5594 - val_loss: 0.6903 - val_accuracy: 0.5115\n",
            "Epoch 2/20\n",
            "313/313 [==============================] - 1s 4ms/step - loss: 0.6724 - accuracy: 0.5728 - val_loss: 0.6723 - val_accuracy: 0.5998\n",
            "Epoch 3/20\n",
            "313/313 [==============================] - 1s 4ms/step - loss: 0.6519 - accuracy: 0.6227 - val_loss: 0.6464 - val_accuracy: 0.6422\n",
            "Epoch 4/20\n",
            "313/313 [==============================] - 1s 4ms/step - loss: 0.6234 - accuracy: 0.6680 - val_loss: 0.6145 - val_accuracy: 0.6995\n",
            "Epoch 5/20\n",
            "313/313 [==============================] - 1s 4ms/step - loss: 0.5896 - accuracy: 0.7114 - val_loss: 0.5830 - val_accuracy: 0.7167\n",
            "Epoch 6/20\n",
            "313/313 [==============================] - 1s 4ms/step - loss: 0.5561 - accuracy: 0.7399 - val_loss: 0.5563 - val_accuracy: 0.7443\n",
            "Epoch 7/20\n",
            "313/313 [==============================] - 1s 4ms/step - loss: 0.5246 - accuracy: 0.7691 - val_loss: 0.5342 - val_accuracy: 0.7489\n",
            "Epoch 8/20\n",
            "313/313 [==============================] - 1s 4ms/step - loss: 0.4950 - accuracy: 0.7885 - val_loss: 0.5176 - val_accuracy: 0.7615\n",
            "Epoch 9/20\n",
            "313/313 [==============================] - 1s 4ms/step - loss: 0.4696 - accuracy: 0.8052 - val_loss: 0.5032 - val_accuracy: 0.7638\n",
            "Epoch 10/20\n",
            "313/313 [==============================] - 1s 4ms/step - loss: 0.4460 - accuracy: 0.8191 - val_loss: 0.4935 - val_accuracy: 0.7649\n",
            "Epoch 11/20\n",
            "313/313 [==============================] - 1s 4ms/step - loss: 0.4257 - accuracy: 0.8291 - val_loss: 0.4869 - val_accuracy: 0.7615\n",
            "Epoch 12/20\n",
            "313/313 [==============================] - 1s 4ms/step - loss: 0.4064 - accuracy: 0.8379 - val_loss: 0.4851 - val_accuracy: 0.7603\n",
            "Epoch 13/20\n",
            "313/313 [==============================] - 1s 4ms/step - loss: 0.3897 - accuracy: 0.8415 - val_loss: 0.4847 - val_accuracy: 0.7580\n",
            "Epoch 14/20\n",
            "313/313 [==============================] - 1s 4ms/step - loss: 0.3751 - accuracy: 0.8468 - val_loss: 0.4845 - val_accuracy: 0.7695\n",
            "Epoch 15/20\n",
            "313/313 [==============================] - 1s 4ms/step - loss: 0.3606 - accuracy: 0.8502 - val_loss: 0.4880 - val_accuracy: 0.7649\n",
            "Epoch 16/20\n",
            "313/313 [==============================] - 1s 4ms/step - loss: 0.3487 - accuracy: 0.8556 - val_loss: 0.4923 - val_accuracy: 0.7695\n",
            "Epoch 17/20\n",
            "313/313 [==============================] - 1s 4ms/step - loss: 0.3372 - accuracy: 0.8600 - val_loss: 0.4956 - val_accuracy: 0.7741\n",
            "Epoch 18/20\n",
            "313/313 [==============================] - 1s 4ms/step - loss: 0.3273 - accuracy: 0.8641 - val_loss: 0.5044 - val_accuracy: 0.7741\n",
            "Epoch 19/20\n",
            "313/313 [==============================] - 1s 4ms/step - loss: 0.3175 - accuracy: 0.8669 - val_loss: 0.5082 - val_accuracy: 0.7775\n",
            "Epoch 20/20\n",
            "313/313 [==============================] - 1s 4ms/step - loss: 0.3082 - accuracy: 0.8696 - val_loss: 0.5181 - val_accuracy: 0.7672\n"
          ]
        }
      ]
    },
    {
      "cell_type": "code",
      "source": [
        "import matplotlib.pyplot as plt\n",
        "\n",
        "\n",
        "def plot_graphs(history, string):\n",
        "  plt.plot(history.history[string])\n",
        "  plt.plot(history.history['val_'+string])\n",
        "  plt.xlabel(\"Epochs\")\n",
        "  plt.ylabel(string)\n",
        "  plt.legend([string, 'val_'+string])\n",
        "  plt.show()\n",
        "  \n",
        "plot_graphs(history, \"accuracy\")\n",
        "plot_graphs(history, \"loss\")"
      ],
      "metadata": {
        "colab": {
          "base_uri": "https://localhost:8080/",
          "height": 541
        },
        "id": "SFkU5H9CgQSQ",
        "outputId": "d6268cc2-52b1-4ce3-e087-c5783b54fb64"
      },
      "execution_count": 11,
      "outputs": [
        {
          "output_type": "display_data",
          "data": {
            "text/plain": [
              "<Figure size 432x288 with 1 Axes>"
            ],
            "image/png": "[encoded data removed]"
          },
          "metadata": {
            "needs_background": "light"
          }
        },
        {
          "output_type": "display_data",
          "data": {
            "text/plain": [
              "<Figure size 432x288 with 1 Axes>"
            ],
            "image/png": "[encoded data removed]"
          },
          "metadata": {
            "needs_background": "light"
          }
        }
      ]
    },
    {
      "cell_type": "code",
      "source": [
        "# Write some new reviews \n",
        "\n",
        "review1 = \"\"\"I loved this movie\"\"\"\n",
        "\n",
        "review2 = \"\"\"that was the worst movie I've ever seen\"\"\"\n",
        "\n",
        "review3 = \"\"\"too much violence even for a Bond film\"\"\"\n",
        "\n",
        "review4 = \"\"\"a captivating recounting of a cherished myth\"\"\"\n",
        "\n",
        "new_reviews = [review1, review2, review3, review4]"
      ],
      "metadata": {
        "id": "aHg0xpslgS3Z"
      },
      "execution_count": 12,
      "outputs": []
    },
    {
      "cell_type": "code",
      "source": [
        "# Define a function to prepare the new reviews for use with a model\n",
        "# and then use the model to predict the sentiment of the new reviews           \n",
        "\n",
        "def predict_review(model, reviews):\n",
        "  # Create the sequences\n",
        "  padding_type='post'\n",
        "  sample_sequences = tokenizer.texts_to_sequences(reviews)\n",
        "  reviews_padded = pad_sequences(sample_sequences, padding=padding_type, \n",
        "                                 maxlen=max_length) \n",
        "  classes = model.predict(reviews_padded)\n",
        "  for x in range(len(reviews_padded)):\n",
        "    print(reviews[x])\n",
        "    print(classes[x])\n",
        "    print('\\n')\n",
        "\n",
        "predict_review(model, new_reviews)"
      ],
      "metadata": {
        "colab": {
          "base_uri": "https://localhost:8080/"
        },
        "id": "3cHL9RvzgXWw",
        "outputId": "04fb30a6-a779-4c4a-ada8-d89bee17d962"
      },
      "execution_count": 13,
      "outputs": [
        {
          "output_type": "stream",
          "name": "stdout",
          "text": [
            "I loved this movie\n",
            "[0.38977137]\n",
            "\n",
            "\n",
            "that was the worst movie I've ever seen\n",
            "[0.11883331]\n",
            "\n",
            "\n",
            "too much violence even for a Bond film\n",
            "[0.03095675]\n",
            "\n",
            "\n",
            "a captivating recounting of a cherished myth\n",
            "[0.6119949]\n",
            "\n",
            "\n"
          ]
        }
      ]
    },
    {
      "cell_type": "code",
      "source": [
        "def fit_model_and_show_results (model, reviews):\n",
        "  model.summary()\n",
        "  history = model.fit(training_padded, training_labels_final, epochs=num_epochs, \n",
        "                      validation_data=(validation_padded, validation_labels_final))\n",
        "  plot_graphs(history, \"accuracy\")\n",
        "  plot_graphs(history, \"loss\")\n",
        "  predict_review(model, reviews)"
      ],
      "metadata": {
        "id": "uO5y8S59hGyw"
      },
      "execution_count": 14,
      "outputs": []
    },
    {
      "cell_type": "code",
      "source": [
        "num_epochs = 30\n",
        "\n",
        "model_cnn = tf.keras.Sequential([\n",
        "    tf.keras.layers.Embedding(vocab_size, embedding_dim, input_length=max_length),\n",
        "    tf.keras.layers.Conv1D(16, 5, activation='relu'),\n",
        "    tf.keras.layers.GlobalMaxPooling1D(),\n",
        "    tf.keras.layers.Dense(1, activation='sigmoid')\n",
        "])\n",
        "\n",
        "# Default learning rate for the Adam optimizer is 0.001\n",
        "# Let's slow down the learning rate by 10.\n",
        "learning_rate = 0.0001\n",
        "model_cnn.compile(loss='binary_crossentropy',\n",
        "                  optimizer=tf.keras.optimizers.Adam(learning_rate), \n",
        "                  metrics=['accuracy'])\n",
        "\n",
        "fit_model_and_show_results(model_cnn, new_reviews)"
      ],
      "metadata": {
        "colab": {
          "base_uri": "https://localhost:8080/",
          "height": 1000
        },
        "id": "PuMODiSFhHQf",
        "outputId": "6d439661-ec96-4bed-a048-c02f813135b9"
      },
      "execution_count": 15,
      "outputs": [
        {
          "output_type": "stream",
          "name": "stdout",
          "text": [
            "Model: \"sequential_1\"\n",
            "_________________________________________________________________\n",
            " Layer (type)                Output Shape              Param #   \n",
            "=================================================================\n",
            " embedding_1 (Embedding)     (None, 50, 16)            64000     \n",
            "                                                                 \n",
            " conv1d (Conv1D)             (None, 46, 16)            1296      \n",
            "                                                                 \n",
            " global_max_pooling1d (Globa  (None, 16)               0         \n",
            " lMaxPooling1D)                                                  \n",
            "                                                                 \n",
            " dense_1 (Dense)             (None, 1)                 17        \n",
            "                                                                 \n",
            "=================================================================\n",
            "Total params: 65,313\n",
            "Trainable params: 65,313\n",
            "Non-trainable params: 0\n",
            "_________________________________________________________________\n",
            "Epoch 1/30\n",
            "313/313 [==============================] - 11s 5ms/step - loss: 0.6859 - accuracy: 0.5590 - val_loss: 0.6934 - val_accuracy: 0.5092\n",
            "Epoch 2/30\n",
            "313/313 [==============================] - 1s 4ms/step - loss: 0.6814 - accuracy: 0.5590 - val_loss: 0.6913 - val_accuracy: 0.5092\n",
            "Epoch 3/30\n",
            "313/313 [==============================] - 1s 4ms/step - loss: 0.6768 - accuracy: 0.5590 - val_loss: 0.6884 - val_accuracy: 0.5092\n",
            "Epoch 4/30\n",
            "313/313 [==============================] - 2s 6ms/step - loss: 0.6704 - accuracy: 0.5589 - val_loss: 0.6832 - val_accuracy: 0.5115\n",
            "Epoch 5/30\n",
            "313/313 [==============================] - 2s 5ms/step - loss: 0.6605 - accuracy: 0.5651 - val_loss: 0.6744 - val_accuracy: 0.5493\n",
            "Epoch 6/30\n",
            "313/313 [==============================] - 1s 4ms/step - loss: 0.6453 - accuracy: 0.5974 - val_loss: 0.6610 - val_accuracy: 0.6376\n",
            "Epoch 7/30\n",
            "313/313 [==============================] - 1s 4ms/step - loss: 0.6230 - accuracy: 0.6584 - val_loss: 0.6422 - val_accuracy: 0.6961\n",
            "Epoch 8/30\n",
            "313/313 [==============================] - 1s 4ms/step - loss: 0.5936 - accuracy: 0.7353 - val_loss: 0.6197 - val_accuracy: 0.7076\n",
            "Epoch 9/30\n",
            "313/313 [==============================] - 2s 6ms/step - loss: 0.5589 - accuracy: 0.7730 - val_loss: 0.5955 - val_accuracy: 0.7110\n",
            "Epoch 10/30\n",
            "313/313 [==============================] - 2s 6ms/step - loss: 0.5222 - accuracy: 0.8035 - val_loss: 0.5718 - val_accuracy: 0.7259\n",
            "Epoch 11/30\n",
            "313/313 [==============================] - 1s 4ms/step - loss: 0.4861 - accuracy: 0.8182 - val_loss: 0.5511 - val_accuracy: 0.7294\n",
            "Epoch 12/30\n",
            "313/313 [==============================] - 1s 4ms/step - loss: 0.4526 - accuracy: 0.8316 - val_loss: 0.5340 - val_accuracy: 0.7362\n",
            "Epoch 13/30\n",
            "313/313 [==============================] - 1s 4ms/step - loss: 0.4227 - accuracy: 0.8419 - val_loss: 0.5219 - val_accuracy: 0.7408\n",
            "Epoch 14/30\n",
            "313/313 [==============================] - 1s 4ms/step - loss: 0.3965 - accuracy: 0.8519 - val_loss: 0.5128 - val_accuracy: 0.7443\n",
            "Epoch 15/30\n",
            "313/313 [==============================] - 1s 4ms/step - loss: 0.3738 - accuracy: 0.8592 - val_loss: 0.5073 - val_accuracy: 0.7466\n",
            "Epoch 16/30\n",
            "313/313 [==============================] - 1s 4ms/step - loss: 0.3538 - accuracy: 0.8648 - val_loss: 0.5039 - val_accuracy: 0.7523\n",
            "Epoch 17/30\n",
            "313/313 [==============================] - 1s 4ms/step - loss: 0.3362 - accuracy: 0.8677 - val_loss: 0.5031 - val_accuracy: 0.7500\n",
            "Epoch 18/30\n",
            "313/313 [==============================] - 1s 4ms/step - loss: 0.3205 - accuracy: 0.8735 - val_loss: 0.5038 - val_accuracy: 0.7489\n",
            "Epoch 19/30\n",
            "313/313 [==============================] - 1s 4ms/step - loss: 0.3066 - accuracy: 0.8766 - val_loss: 0.5066 - val_accuracy: 0.7523\n",
            "Epoch 20/30\n",
            "313/313 [==============================] - 1s 4ms/step - loss: 0.2941 - accuracy: 0.8803 - val_loss: 0.5107 - val_accuracy: 0.7523\n",
            "Epoch 21/30\n",
            "313/313 [==============================] - 1s 4ms/step - loss: 0.2830 - accuracy: 0.8850 - val_loss: 0.5160 - val_accuracy: 0.7523\n",
            "Epoch 22/30\n",
            "313/313 [==============================] - 1s 4ms/step - loss: 0.2725 - accuracy: 0.8876 - val_loss: 0.5216 - val_accuracy: 0.7523\n",
            "Epoch 23/30\n",
            "313/313 [==============================] - 1s 4ms/step - loss: 0.2631 - accuracy: 0.8901 - val_loss: 0.5289 - val_accuracy: 0.7546\n",
            "Epoch 24/30\n",
            "313/313 [==============================] - 1s 4ms/step - loss: 0.2544 - accuracy: 0.8932 - val_loss: 0.5362 - val_accuracy: 0.7557\n",
            "Epoch 25/30\n",
            "313/313 [==============================] - 1s 4ms/step - loss: 0.2462 - accuracy: 0.8964 - val_loss: 0.5446 - val_accuracy: 0.7500\n",
            "Epoch 26/30\n",
            "313/313 [==============================] - 1s 4ms/step - loss: 0.2389 - accuracy: 0.8987 - val_loss: 0.5543 - val_accuracy: 0.7454\n",
            "Epoch 27/30\n",
            "313/313 [==============================] - 1s 4ms/step - loss: 0.2319 - accuracy: 0.8992 - val_loss: 0.5648 - val_accuracy: 0.7500\n",
            "Epoch 28/30\n",
            "313/313 [==============================] - 1s 4ms/step - loss: 0.2256 - accuracy: 0.9031 - val_loss: 0.5748 - val_accuracy: 0.7523\n",
            "Epoch 29/30\n",
            "313/313 [==============================] - 1s 4ms/step - loss: 0.2196 - accuracy: 0.9040 - val_loss: 0.5856 - val_accuracy: 0.7466\n",
            "Epoch 30/30\n",
            "313/313 [==============================] - 1s 4ms/step - loss: 0.2138 - accuracy: 0.9068 - val_loss: 0.5972 - val_accuracy: 0.7431\n"
          ]
        },
        {
          "output_type": "display_data",
          "data": {
            "text/plain": [
              "<Figure size 432x288 with 1 Axes>"
            ],
            "image/png": "[encoded data removed]"
          },
          "metadata": {
            "needs_background": "light"
          }
        },
        {
          "output_type": "display_data",
          "data": {
            "text/plain": [
              "<Figure size 432x288 with 1 Axes>"
            ],
            "image/png": "[encoded data removed]"
          },
          "metadata": {
            "needs_background": "light"
          }
        },
        {
          "output_type": "stream",
          "name": "stdout",
          "text": [
            "I loved this movie\n",
            "[0.62269306]\n",
            "\n",
            "\n",
            "that was the worst movie I've ever seen\n",
            "[0.03415394]\n",
            "\n",
            "\n",
            "too much violence even for a Bond film\n",
            "[0.00476232]\n",
            "\n",
            "\n",
            "a captivating recounting of a cherished myth\n",
            "[0.7099338]\n",
            "\n",
            "\n"
          ]
        }
      ]
    },
    {
      "cell_type": "code",
      "source": [
        "num_epochs = 30\n",
        "\n",
        "model_gru = tf.keras.Sequential([\n",
        "    tf.keras.layers.Embedding(vocab_size, embedding_dim, input_length=max_length),\n",
        "    tf.keras.layers.Bidirectional(tf.keras.layers.GRU(32)),\n",
        "    tf.keras.layers.Dense(1, activation='sigmoid')\n",
        "])\n",
        "\n",
        "learning_rate = 0.00003 # slower than the default learning rate\n",
        "model_gru.compile(loss='binary_crossentropy',\n",
        "                  optimizer=tf.keras.optimizers.Adam(learning_rate),\n",
        "                  metrics=['accuracy'])\n",
        "\n",
        "fit_model_and_show_results(model_gru, new_reviews)"
      ],
      "metadata": {
        "colab": {
          "base_uri": "https://localhost:8080/",
          "height": 1000
        },
        "id": "lkFRKXKvhcKm",
        "outputId": "f6025d8c-471f-47e7-9d00-ec5e56bb1758"
      },
      "execution_count": 16,
      "outputs": [
        {
          "output_type": "stream",
          "name": "stdout",
          "text": [
            "Model: \"sequential_2\"\n",
            "_________________________________________________________________\n",
            " Layer (type)                Output Shape              Param #   \n",
            "=================================================================\n",
            " embedding_2 (Embedding)     (None, 50, 16)            64000     \n",
            "                                                                 \n",
            " bidirectional (Bidirectiona  (None, 64)               9600      \n",
            " l)                                                              \n",
            "                                                                 \n",
            " dense_2 (Dense)             (None, 1)                 65        \n",
            "                                                                 \n",
            "=================================================================\n",
            "Total params: 73,665\n",
            "Trainable params: 73,665\n",
            "Non-trainable params: 0\n",
            "_________________________________________________________________\n",
            "Epoch 1/30\n",
            "313/313 [==============================] - 7s 11ms/step - loss: 0.6896 - accuracy: 0.5595 - val_loss: 0.6932 - val_accuracy: 0.5092\n",
            "Epoch 2/30\n",
            "313/313 [==============================] - 3s 9ms/step - loss: 0.6864 - accuracy: 0.5590 - val_loss: 0.6940 - val_accuracy: 0.5092\n",
            "Epoch 3/30\n",
            "313/313 [==============================] - 3s 9ms/step - loss: 0.6847 - accuracy: 0.5590 - val_loss: 0.6950 - val_accuracy: 0.5092\n",
            "Epoch 4/30\n",
            "313/313 [==============================] - 3s 9ms/step - loss: 0.6833 - accuracy: 0.5590 - val_loss: 0.6959 - val_accuracy: 0.5092\n",
            "Epoch 5/30\n",
            "313/313 [==============================] - 3s 9ms/step - loss: 0.6813 - accuracy: 0.5590 - val_loss: 0.6967 - val_accuracy: 0.5092\n",
            "Epoch 6/30\n",
            "313/313 [==============================] - 3s 9ms/step - loss: 0.6783 - accuracy: 0.5590 - val_loss: 0.6982 - val_accuracy: 0.5092\n",
            "Epoch 7/30\n",
            "313/313 [==============================] - 3s 9ms/step - loss: 0.6732 - accuracy: 0.5596 - val_loss: 0.7012 - val_accuracy: 0.5092\n",
            "Epoch 8/30\n",
            "313/313 [==============================] - 3s 9ms/step - loss: 0.6644 - accuracy: 0.5687 - val_loss: 0.7065 - val_accuracy: 0.5092\n",
            "Epoch 9/30\n",
            "313/313 [==============================] - 3s 9ms/step - loss: 0.6505 - accuracy: 0.6077 - val_loss: 0.7085 - val_accuracy: 0.5092\n",
            "Epoch 10/30\n",
            "313/313 [==============================] - 3s 9ms/step - loss: 0.6284 - accuracy: 0.6384 - val_loss: 0.6806 - val_accuracy: 0.5092\n",
            "Epoch 11/30\n",
            "313/313 [==============================] - 3s 9ms/step - loss: 0.5956 - accuracy: 0.6661 - val_loss: 0.6325 - val_accuracy: 0.5356\n",
            "Epoch 12/30\n",
            "313/313 [==============================] - 3s 9ms/step - loss: 0.5709 - accuracy: 0.6968 - val_loss: 0.6198 - val_accuracy: 0.6021\n",
            "Epoch 13/30\n",
            "313/313 [==============================] - 3s 9ms/step - loss: 0.5526 - accuracy: 0.7145 - val_loss: 0.6116 - val_accuracy: 0.6640\n",
            "Epoch 14/30\n",
            "313/313 [==============================] - 3s 9ms/step - loss: 0.5347 - accuracy: 0.7304 - val_loss: 0.6130 - val_accuracy: 0.6755\n",
            "Epoch 15/30\n",
            "313/313 [==============================] - 3s 9ms/step - loss: 0.5153 - accuracy: 0.7504 - val_loss: 0.5991 - val_accuracy: 0.7122\n",
            "Epoch 16/30\n",
            "313/313 [==============================] - 3s 9ms/step - loss: 0.4957 - accuracy: 0.7642 - val_loss: 0.5972 - val_accuracy: 0.7167\n",
            "Epoch 17/30\n",
            "313/313 [==============================] - 3s 9ms/step - loss: 0.4808 - accuracy: 0.7755 - val_loss: 0.5884 - val_accuracy: 0.7317\n",
            "Epoch 18/30\n",
            "313/313 [==============================] - 3s 9ms/step - loss: 0.4667 - accuracy: 0.7886 - val_loss: 0.5777 - val_accuracy: 0.7339\n",
            "Epoch 19/30\n",
            "313/313 [==============================] - 3s 9ms/step - loss: 0.4544 - accuracy: 0.7921 - val_loss: 0.5778 - val_accuracy: 0.7466\n",
            "Epoch 20/30\n",
            "313/313 [==============================] - 3s 9ms/step - loss: 0.4425 - accuracy: 0.8020 - val_loss: 0.5610 - val_accuracy: 0.7454\n",
            "Epoch 21/30\n",
            "313/313 [==============================] - 3s 9ms/step - loss: 0.4336 - accuracy: 0.8085 - val_loss: 0.5592 - val_accuracy: 0.7557\n",
            "Epoch 22/30\n",
            "313/313 [==============================] - 3s 9ms/step - loss: 0.4263 - accuracy: 0.8114 - val_loss: 0.5586 - val_accuracy: 0.7615\n",
            "Epoch 23/30\n",
            "313/313 [==============================] - 3s 9ms/step - loss: 0.4158 - accuracy: 0.8170 - val_loss: 0.5716 - val_accuracy: 0.7638\n",
            "Epoch 24/30\n",
            "313/313 [==============================] - 3s 9ms/step - loss: 0.4092 - accuracy: 0.8223 - val_loss: 0.5583 - val_accuracy: 0.7603\n",
            "Epoch 25/30\n",
            "313/313 [==============================] - 3s 9ms/step - loss: 0.4005 - accuracy: 0.8245 - val_loss: 0.5607 - val_accuracy: 0.7592\n",
            "Epoch 26/30\n",
            "313/313 [==============================] - 3s 9ms/step - loss: 0.3949 - accuracy: 0.8261 - val_loss: 0.5660 - val_accuracy: 0.7592\n",
            "Epoch 27/30\n",
            "313/313 [==============================] - 3s 11ms/step - loss: 0.3867 - accuracy: 0.8334 - val_loss: 0.5777 - val_accuracy: 0.7649\n",
            "Epoch 28/30\n",
            "313/313 [==============================] - 3s 10ms/step - loss: 0.3794 - accuracy: 0.8399 - val_loss: 0.5931 - val_accuracy: 0.7661\n",
            "Epoch 29/30\n",
            "313/313 [==============================] - 3s 9ms/step - loss: 0.3727 - accuracy: 0.8414 - val_loss: 0.5943 - val_accuracy: 0.7683\n",
            "Epoch 30/30\n",
            "313/313 [==============================] - 3s 9ms/step - loss: 0.3662 - accuracy: 0.8462 - val_loss: 0.6094 - val_accuracy: 0.7741\n"
          ]
        },
        {
          "output_type": "display_data",
          "data": {
            "text/plain": [
              "<Figure size 432x288 with 1 Axes>"
            ],
            "image/png": "[encoded data removed]"
          },
          "metadata": {
            "needs_background": "light"
          }
        },
        {
          "output_type": "display_data",
          "data": {
            "text/plain": [
              "<Figure size 432x288 with 1 Axes>"
            ],
            "image/png": "[encoded data removed]"
          },
          "metadata": {
            "needs_background": "light"
          }
        },
        {
          "output_type": "stream",
          "name": "stdout",
          "text": [
            "I loved this movie\n",
            "[0.4787942]\n",
            "\n",
            "\n",
            "that was the worst movie I've ever seen\n",
            "[0.23740138]\n",
            "\n",
            "\n",
            "too much violence even for a Bond film\n",
            "[0.22740227]\n",
            "\n",
            "\n",
            "a captivating recounting of a cherished myth\n",
            "[0.4944841]\n",
            "\n",
            "\n"
          ]
        }
      ]
    },
    {
      "cell_type": "code",
      "source": [
        "num_epochs = 30\n",
        "\n",
        "model_bidi_lstm = tf.keras.Sequential([\n",
        "    tf.keras.layers.Embedding(vocab_size, embedding_dim, input_length=max_length),\n",
        "    tf.keras.layers.Bidirectional(tf.keras.layers.LSTM(embedding_dim)), \n",
        "    tf.keras.layers.Dense(1, activation='sigmoid')\n",
        "])\n",
        "\n",
        "learning_rate = 0.00003\n",
        "model_bidi_lstm.compile(loss='binary_crossentropy',\n",
        "                        optimizer=tf.keras.optimizers.Adam(learning_rate),\n",
        "                        metrics=['accuracy'])\n",
        "fit_model_and_show_results(model_bidi_lstm, new_reviews)"
      ],
      "metadata": {
        "colab": {
          "base_uri": "https://localhost:8080/",
          "height": 1000
        },
        "id": "JjEMslBOivgw",
        "outputId": "b16b7c85-cbd6-44f4-d40f-cd625a4fd4ff"
      },
      "execution_count": 17,
      "outputs": [
        {
          "output_type": "stream",
          "name": "stdout",
          "text": [
            "Model: \"sequential_3\"\n",
            "_________________________________________________________________\n",
            " Layer (type)                Output Shape              Param #   \n",
            "=================================================================\n",
            " embedding_3 (Embedding)     (None, 50, 16)            64000     \n",
            "                                                                 \n",
            " bidirectional_1 (Bidirectio  (None, 32)               4224      \n",
            " nal)                                                            \n",
            "                                                                 \n",
            " dense_3 (Dense)             (None, 1)                 33        \n",
            "                                                                 \n",
            "=================================================================\n",
            "Total params: 68,257\n",
            "Trainable params: 68,257\n",
            "Non-trainable params: 0\n",
            "_________________________________________________________________\n",
            "Epoch 1/30\n",
            "313/313 [==============================] - 6s 12ms/step - loss: 0.6917 - accuracy: 0.5431 - val_loss: 0.6935 - val_accuracy: 0.5092\n",
            "Epoch 2/30\n",
            "313/313 [==============================] - 3s 9ms/step - loss: 0.6881 - accuracy: 0.5590 - val_loss: 0.6947 - val_accuracy: 0.5092\n",
            "Epoch 3/30\n",
            "313/313 [==============================] - 3s 9ms/step - loss: 0.6853 - accuracy: 0.5590 - val_loss: 0.6971 - val_accuracy: 0.5092\n",
            "Epoch 4/30\n",
            "313/313 [==============================] - 3s 9ms/step - loss: 0.6830 - accuracy: 0.5590 - val_loss: 0.7005 - val_accuracy: 0.5092\n",
            "Epoch 5/30\n",
            "313/313 [==============================] - 3s 9ms/step - loss: 0.6810 - accuracy: 0.5590 - val_loss: 0.7042 - val_accuracy: 0.5092\n",
            "Epoch 6/30\n",
            "313/313 [==============================] - 3s 9ms/step - loss: 0.6786 - accuracy: 0.5590 - val_loss: 0.7081 - val_accuracy: 0.5092\n",
            "Epoch 7/30\n",
            "313/313 [==============================] - 3s 9ms/step - loss: 0.6756 - accuracy: 0.5590 - val_loss: 0.7136 - val_accuracy: 0.5092\n",
            "Epoch 8/30\n",
            "313/313 [==============================] - 3s 9ms/step - loss: 0.6719 - accuracy: 0.5595 - val_loss: 0.7192 - val_accuracy: 0.5092\n",
            "Epoch 9/30\n",
            "313/313 [==============================] - 3s 9ms/step - loss: 0.6673 - accuracy: 0.5670 - val_loss: 0.7266 - val_accuracy: 0.5092\n",
            "Epoch 10/30\n",
            "313/313 [==============================] - 3s 9ms/step - loss: 0.6618 - accuracy: 0.5887 - val_loss: 0.7317 - val_accuracy: 0.5092\n",
            "Epoch 11/30\n",
            "313/313 [==============================] - 3s 9ms/step - loss: 0.6552 - accuracy: 0.6119 - val_loss: 0.7417 - val_accuracy: 0.5092\n",
            "Epoch 12/30\n",
            "313/313 [==============================] - 3s 9ms/step - loss: 0.6472 - accuracy: 0.6347 - val_loss: 0.7489 - val_accuracy: 0.5092\n",
            "Epoch 13/30\n",
            "313/313 [==============================] - 3s 9ms/step - loss: 0.6373 - accuracy: 0.6481 - val_loss: 0.7545 - val_accuracy: 0.5092\n",
            "Epoch 14/30\n",
            "313/313 [==============================] - 3s 9ms/step - loss: 0.6252 - accuracy: 0.6610 - val_loss: 0.7552 - val_accuracy: 0.5092\n",
            "Epoch 15/30\n",
            "313/313 [==============================] - 3s 9ms/step - loss: 0.6103 - accuracy: 0.6760 - val_loss: 0.7569 - val_accuracy: 0.5092\n",
            "Epoch 16/30\n",
            "313/313 [==============================] - 3s 10ms/step - loss: 0.5934 - accuracy: 0.6916 - val_loss: 0.7552 - val_accuracy: 0.5080\n",
            "Epoch 17/30\n",
            "313/313 [==============================] - 4s 14ms/step - loss: 0.5747 - accuracy: 0.7124 - val_loss: 0.7388 - val_accuracy: 0.5115\n",
            "Epoch 18/30\n",
            "313/313 [==============================] - 3s 10ms/step - loss: 0.5572 - accuracy: 0.7294 - val_loss: 0.7152 - val_accuracy: 0.4931\n",
            "Epoch 19/30\n",
            "313/313 [==============================] - 3s 9ms/step - loss: 0.5428 - accuracy: 0.7479 - val_loss: 0.7049 - val_accuracy: 0.5092\n",
            "Epoch 20/30\n",
            "313/313 [==============================] - 3s 9ms/step - loss: 0.5298 - accuracy: 0.7588 - val_loss: 0.6807 - val_accuracy: 0.5172\n",
            "Epoch 21/30\n",
            "313/313 [==============================] - 3s 9ms/step - loss: 0.5174 - accuracy: 0.7687 - val_loss: 0.6663 - val_accuracy: 0.5172\n",
            "Epoch 22/30\n",
            "313/313 [==============================] - 3s 9ms/step - loss: 0.5069 - accuracy: 0.7785 - val_loss: 0.6643 - val_accuracy: 0.5241\n",
            "Epoch 23/30\n",
            "313/313 [==============================] - 3s 9ms/step - loss: 0.4973 - accuracy: 0.7844 - val_loss: 0.6494 - val_accuracy: 0.5195\n",
            "Epoch 24/30\n",
            "313/313 [==============================] - 3s 9ms/step - loss: 0.4879 - accuracy: 0.7903 - val_loss: 0.6578 - val_accuracy: 0.5252\n",
            "Epoch 25/30\n",
            "313/313 [==============================] - 3s 9ms/step - loss: 0.4792 - accuracy: 0.7971 - val_loss: 0.6470 - val_accuracy: 0.5333\n",
            "Epoch 26/30\n",
            "313/313 [==============================] - 3s 9ms/step - loss: 0.4712 - accuracy: 0.8000 - val_loss: 0.6421 - val_accuracy: 0.5401\n",
            "Epoch 27/30\n",
            "313/313 [==============================] - 3s 9ms/step - loss: 0.4626 - accuracy: 0.8051 - val_loss: 0.6300 - val_accuracy: 0.5470\n",
            "Epoch 28/30\n",
            "313/313 [==============================] - 3s 9ms/step - loss: 0.4550 - accuracy: 0.8094 - val_loss: 0.6390 - val_accuracy: 0.5482\n",
            "Epoch 29/30\n",
            "313/313 [==============================] - 3s 9ms/step - loss: 0.4478 - accuracy: 0.8133 - val_loss: 0.6329 - val_accuracy: 0.5677\n",
            "Epoch 30/30\n",
            "313/313 [==============================] - 3s 9ms/step - loss: 0.4400 - accuracy: 0.8180 - val_loss: 0.6404 - val_accuracy: 0.5688\n"
          ]
        },
        {
          "output_type": "display_data",
          "data": {
            "text/plain": [
              "<Figure size 432x288 with 1 Axes>"
            ],
            "image/png": "[encoded data removed]"
          },
          "metadata": {
            "needs_background": "light"
          }
        },
        {
          "output_type": "display_data",
          "data": {
            "text/plain": [
              "<Figure size 432x288 with 1 Axes>"
            ],
            "image/png": "[encoded data removed]"
          },
          "metadata": {
            "needs_background": "light"
          }
        },
        {
          "output_type": "stream",
          "name": "stdout",
          "text": [
            "I loved this movie\n",
            "[0.55173975]\n",
            "\n",
            "\n",
            "that was the worst movie I've ever seen\n",
            "[0.30473673]\n",
            "\n",
            "\n",
            "too much violence even for a Bond film\n",
            "[0.43274358]\n",
            "\n",
            "\n",
            "a captivating recounting of a cherished myth\n",
            "[0.60451925]\n",
            "\n",
            "\n"
          ]
        }
      ]
    },
    {
      "cell_type": "code",
      "source": [
        "num_epochs = 30\n",
        "\n",
        "model_multiple_bidi_lstm = tf.keras.Sequential([\n",
        "    tf.keras.layers.Embedding(vocab_size, embedding_dim, input_length=max_length),\n",
        "    tf.keras.layers.Bidirectional(tf.keras.layers.LSTM(embedding_dim, \n",
        "                                                       return_sequences=True)),\n",
        "    tf.keras.layers.Bidirectional(tf.keras.layers.LSTM(embedding_dim)),\n",
        "    tf.keras.layers.Dense(1, activation='sigmoid')\n",
        "])\n",
        "\n",
        "learning_rate = 0.0003\n",
        "model_multiple_bidi_lstm.compile(loss='binary_crossentropy',\n",
        "                                 optimizer=tf.keras.optimizers.Adam(learning_rate),\n",
        "                                 metrics=['accuracy'])\n",
        "fit_model_and_show_results(model_multiple_bidi_lstm, new_reviews)"
      ],
      "metadata": {
        "colab": {
          "base_uri": "https://localhost:8080/",
          "height": 1000
        },
        "id": "2vLHEgx-i0Oq",
        "outputId": "41cf9afe-9c91-4e7d-9919-51444627df33"
      },
      "execution_count": 18,
      "outputs": [
        {
          "output_type": "stream",
          "name": "stdout",
          "text": [
            "Model: \"sequential_4\"\n",
            "_________________________________________________________________\n",
            " Layer (type)                Output Shape              Param #   \n",
            "=================================================================\n",
            " embedding_4 (Embedding)     (None, 50, 16)            64000     \n",
            "                                                                 \n",
            " bidirectional_2 (Bidirectio  (None, 50, 32)           4224      \n",
            " nal)                                                            \n",
            "                                                                 \n",
            " bidirectional_3 (Bidirectio  (None, 32)               6272      \n",
            " nal)                                                            \n",
            "                                                                 \n",
            " dense_4 (Dense)             (None, 1)                 33        \n",
            "                                                                 \n",
            "=================================================================\n",
            "Total params: 74,529\n",
            "Trainable params: 74,529\n",
            "Non-trainable params: 0\n",
            "_________________________________________________________________\n",
            "Epoch 1/30\n",
            "313/313 [==============================] - 11s 18ms/step - loss: 0.6771 - accuracy: 0.5694 - val_loss: 0.7479 - val_accuracy: 0.5092\n",
            "Epoch 2/30\n",
            "313/313 [==============================] - 5s 14ms/step - loss: 0.4720 - accuracy: 0.7697 - val_loss: 0.6645 - val_accuracy: 0.6823\n",
            "Epoch 3/30\n",
            "313/313 [==============================] - 5s 14ms/step - loss: 0.3467 - accuracy: 0.8410 - val_loss: 0.6565 - val_accuracy: 0.6422\n",
            "Epoch 4/30\n",
            "313/313 [==============================] - 4s 14ms/step - loss: 0.2968 - accuracy: 0.8615 - val_loss: 0.8030 - val_accuracy: 0.5206\n",
            "Epoch 5/30\n",
            "313/313 [==============================] - 5s 14ms/step - loss: 0.2662 - accuracy: 0.8809 - val_loss: 0.7053 - val_accuracy: 0.5023\n",
            "Epoch 6/30\n",
            "313/313 [==============================] - 4s 14ms/step - loss: 0.2465 - accuracy: 0.8904 - val_loss: 0.7741 - val_accuracy: 0.3727\n",
            "Epoch 7/30\n",
            "313/313 [==============================] - 5s 14ms/step - loss: 0.2305 - accuracy: 0.8968 - val_loss: 0.8347 - val_accuracy: 0.4656\n",
            "Epoch 8/30\n",
            "313/313 [==============================] - 5s 14ms/step - loss: 0.2192 - accuracy: 0.9009 - val_loss: 0.9003 - val_accuracy: 0.5356\n",
            "Epoch 9/30\n",
            "313/313 [==============================] - 5s 14ms/step - loss: 0.2027 - accuracy: 0.9065 - val_loss: 0.9535 - val_accuracy: 0.5424\n",
            "Epoch 10/30\n",
            "313/313 [==============================] - 4s 14ms/step - loss: 0.1919 - accuracy: 0.9109 - val_loss: 0.8733 - val_accuracy: 0.5103\n",
            "Epoch 11/30\n",
            "313/313 [==============================] - 5s 14ms/step - loss: 0.1857 - accuracy: 0.9149 - val_loss: 0.8284 - val_accuracy: 0.5264\n",
            "Epoch 12/30\n",
            "313/313 [==============================] - 5s 14ms/step - loss: 0.1843 - accuracy: 0.9149 - val_loss: 0.8770 - val_accuracy: 0.3842\n",
            "Epoch 13/30\n",
            "313/313 [==============================] - 5s 14ms/step - loss: 0.1758 - accuracy: 0.9146 - val_loss: 1.1099 - val_accuracy: 0.5906\n",
            "Epoch 14/30\n",
            "313/313 [==============================] - 5s 14ms/step - loss: 0.1733 - accuracy: 0.9205 - val_loss: 0.9468 - val_accuracy: 0.4599\n",
            "Epoch 15/30\n",
            "313/313 [==============================] - 4s 14ms/step - loss: 0.1688 - accuracy: 0.9220 - val_loss: 0.9816 - val_accuracy: 0.4071\n",
            "Epoch 16/30\n",
            "313/313 [==============================] - 4s 14ms/step - loss: 0.1622 - accuracy: 0.9236 - val_loss: 1.1356 - val_accuracy: 0.4702\n",
            "Epoch 17/30\n",
            "313/313 [==============================] - 5s 14ms/step - loss: 0.1647 - accuracy: 0.9219 - val_loss: 1.0947 - val_accuracy: 0.4920\n",
            "Epoch 18/30\n",
            "313/313 [==============================] - 5s 14ms/step - loss: 0.1589 - accuracy: 0.9255 - val_loss: 0.9318 - val_accuracy: 0.4977\n",
            "Epoch 19/30\n",
            "313/313 [==============================] - 4s 14ms/step - loss: 0.1555 - accuracy: 0.9238 - val_loss: 0.9989 - val_accuracy: 0.4805\n",
            "Epoch 20/30\n",
            "313/313 [==============================] - 5s 14ms/step - loss: 0.1532 - accuracy: 0.9263 - val_loss: 0.8503 - val_accuracy: 0.5149\n",
            "Epoch 21/30\n",
            "313/313 [==============================] - 6s 18ms/step - loss: 0.1538 - accuracy: 0.9272 - val_loss: 1.3590 - val_accuracy: 0.4690\n",
            "Epoch 22/30\n",
            "313/313 [==============================] - 5s 15ms/step - loss: 0.1495 - accuracy: 0.9294 - val_loss: 1.2098 - val_accuracy: 0.5011\n",
            "Epoch 23/30\n",
            "313/313 [==============================] - 5s 14ms/step - loss: 0.1421 - accuracy: 0.9310 - val_loss: 1.1296 - val_accuracy: 0.5092\n",
            "Epoch 24/30\n",
            "313/313 [==============================] - 5s 15ms/step - loss: 0.1432 - accuracy: 0.9273 - val_loss: 1.2892 - val_accuracy: 0.4725\n",
            "Epoch 25/30\n",
            "313/313 [==============================] - 5s 15ms/step - loss: 0.1387 - accuracy: 0.9288 - val_loss: 1.2251 - val_accuracy: 0.4553\n",
            "Epoch 26/30\n",
            "313/313 [==============================] - 5s 14ms/step - loss: 0.1374 - accuracy: 0.9323 - val_loss: 1.4548 - val_accuracy: 0.3888\n",
            "Epoch 27/30\n",
            "313/313 [==============================] - 5s 15ms/step - loss: 0.1352 - accuracy: 0.9325 - val_loss: 1.3089 - val_accuracy: 0.4037\n",
            "Epoch 28/30\n",
            "313/313 [==============================] - 4s 14ms/step - loss: 0.1344 - accuracy: 0.9292 - val_loss: 1.4351 - val_accuracy: 0.4392\n",
            "Epoch 29/30\n",
            "313/313 [==============================] - 5s 15ms/step - loss: 0.1296 - accuracy: 0.9333 - val_loss: 1.4019 - val_accuracy: 0.4782\n",
            "Epoch 30/30\n",
            "313/313 [==============================] - 4s 14ms/step - loss: 0.1340 - accuracy: 0.9351 - val_loss: 1.8979 - val_accuracy: 0.4530\n"
          ]
        },
        {
          "output_type": "display_data",
          "data": {
            "text/plain": [
              "<Figure size 432x288 with 1 Axes>"
            ],
            "image/png": "[encoded data removed]"
          },
          "metadata": {
            "needs_background": "light"
          }
        },
        {
          "output_type": "display_data",
          "data": {
            "text/plain": [
              "<Figure size 432x288 with 1 Axes>"
            ],
            "image/png": "[encoded data removed]"
          },
          "metadata": {
            "needs_background": "light"
          }
        },
        {
          "output_type": "stream",
          "name": "stderr",
          "text": [
            "WARNING:tensorflow:5 out of the last 5 calls to <function Model.make_predict_function.<locals>.predict_function at 0x7fe921770050> triggered tf.function retracing. Tracing is expensive and the excessive number of tracings could be due to (1) creating @tf.function repeatedly in a loop, (2) passing tensors with different shapes, (3) passing Python objects instead of tensors. For (1), please define your @tf.function outside of the loop. For (2), @tf.function has experimental_relax_shapes=True option that relaxes argument shapes that can avoid unnecessary retracing. For (3), please refer to https://www.tensorflow.org/guide/function#controlling_retracing and https://www.tensorflow.org/api_docs/python/tf/function for  more details.\n"
          ]
        },
        {
          "output_type": "stream",
          "name": "stdout",
          "text": [
            "I loved this movie\n",
            "[0.9788903]\n",
            "\n",
            "\n",
            "that was the worst movie I've ever seen\n",
            "[0.51313233]\n",
            "\n",
            "\n",
            "too much violence even for a Bond film\n",
            "[0.00947889]\n",
            "\n",
            "\n",
            "a captivating recounting of a cherished myth\n",
            "[0.99378985]\n",
            "\n",
            "\n"
          ]
        }
      ]
    },
    {
      "cell_type": "code",
      "source": [
        "# Write some new reviews \n",
        "\n",
        "review1 = \"\"\"I loved this movie\"\"\"\n",
        "\n",
        "review2 = \"\"\"that was the worst movie I've ever seen\"\"\"\n",
        "\n",
        "review3 = \"\"\"too much violence even for a Bond film\"\"\"\n",
        "\n",
        "review4 = \"\"\"a captivating recounting of a cherished myth\"\"\"\n",
        "\n",
        "review5 = \"\"\"I saw this movie yesterday and I was feeling low to start with,\n",
        " but it was such a wonderful movie that it lifted my spirits and brightened \n",
        " my day, you can\\'t go wrong with a movie with Whoopi Goldberg in it.\"\"\"\n",
        "\n",
        "review6 = \"\"\"I don\\'t understand why it received an oscar recommendation\n",
        " for best movie, it was long and boring\"\"\"\n",
        "\n",
        "review7 = \"\"\"the scenery was magnificent, the CGI of the dogs was so realistic I\n",
        " thought they were played by real dogs even though they talked!\"\"\"\n",
        "\n",
        "review8 = \"\"\"The ending was so sad and yet so uplifting at the same time. \n",
        " I'm looking for an excuse to see it again\"\"\"\n",
        "\n",
        "review9 = \"\"\"I had expected so much more from a movie made by the director \n",
        " who made my most favorite movie ever, I was very disappointed in the tedious \n",
        " story\"\"\"\n",
        "\n",
        "review10 = \"I wish I could watch this movie every day for the rest of my life\"\n",
        "\n",
        "more_reviews = [review1, review2, review3, review4, review5, review6, review7, \n",
        "               review8, review9, review10]\n"
      ],
      "metadata": {
        "id": "LEEZ-belntRj"
      },
      "execution_count": 19,
      "outputs": []
    },
    {
      "cell_type": "code",
      "source": [
        "print(\"============================\\n\",\"Embeddings only:\\n\", \"============================\")\n",
        "predict_review(model, more_reviews)"
      ],
      "metadata": {
        "colab": {
          "base_uri": "https://localhost:8080/"
        },
        "id": "6p2XEBePnt26",
        "outputId": "db3fa549-d66b-4a9b-af09-ebd4d8bc4469"
      },
      "execution_count": 20,
      "outputs": [
        {
          "output_type": "stream",
          "name": "stdout",
          "text": [
            "============================\n",
            " Embeddings only:\n",
            " ============================\n",
            "I loved this movie\n",
            "[0.38977137]\n",
            "\n",
            "\n",
            "that was the worst movie I've ever seen\n",
            "[0.11883331]\n",
            "\n",
            "\n",
            "too much violence even for a Bond film\n",
            "[0.03095675]\n",
            "\n",
            "\n",
            "a captivating recounting of a cherished myth\n",
            "[0.6119949]\n",
            "\n",
            "\n",
            "I saw this movie yesterday and I was feeling low to start with,\n",
            " but it was such a wonderful movie that it lifted my spirits and brightened \n",
            " my day, you can't go wrong with a movie with Whoopi Goldberg in it.\n",
            "[0.28247827]\n",
            "\n",
            "\n",
            "I don't understand why it received an oscar recommendation\n",
            " for best movie, it was long and boring\n",
            "[0.49199405]\n",
            "\n",
            "\n",
            "the scenery was magnificent, the CGI of the dogs was so realistic I\n",
            " thought they were played by real dogs even though they talked!\n",
            "[0.25483793]\n",
            "\n",
            "\n",
            "The ending was so sad and yet so uplifting at the same time. \n",
            " I'm looking for an excuse to see it again\n",
            "[0.5117114]\n",
            "\n",
            "\n",
            "I had expected so much more from a movie made by the director \n",
            " who made my most favorite movie ever, I was very disappointed in the tedious \n",
            " story\n",
            "[0.01126402]\n",
            "\n",
            "\n",
            "I wish I could watch this movie every day for the rest of my life\n",
            "[0.31365702]\n",
            "\n",
            "\n"
          ]
        }
      ]
    },
    {
      "cell_type": "code",
      "source": [
        "print(\"============================\\n\",\"With CNN\\n\", \"============================\")\n",
        "predict_review(model_cnn, more_reviews)"
      ],
      "metadata": {
        "colab": {
          "base_uri": "https://localhost:8080/"
        },
        "id": "oQ4oYcwjnw8n",
        "outputId": "25ab83bf-b86f-4e7a-d559-db674c503330"
      },
      "execution_count": 21,
      "outputs": [
        {
          "output_type": "stream",
          "name": "stdout",
          "text": [
            "============================\n",
            " With CNN\n",
            " ============================\n",
            "I loved this movie\n",
            "[0.62269306]\n",
            "\n",
            "\n",
            "that was the worst movie I've ever seen\n",
            "[0.03415394]\n",
            "\n",
            "\n",
            "too much violence even for a Bond film\n",
            "[0.00476232]\n",
            "\n",
            "\n",
            "a captivating recounting of a cherished myth\n",
            "[0.7099338]\n",
            "\n",
            "\n",
            "I saw this movie yesterday and I was feeling low to start with,\n",
            " but it was such a wonderful movie that it lifted my spirits and brightened \n",
            " my day, you can't go wrong with a movie with Whoopi Goldberg in it.\n",
            "[0.74159026]\n",
            "\n",
            "\n",
            "I don't understand why it received an oscar recommendation\n",
            " for best movie, it was long and boring\n",
            "[0.98795635]\n",
            "\n",
            "\n",
            "the scenery was magnificent, the CGI of the dogs was so realistic I\n",
            " thought they were played by real dogs even though they talked!\n",
            "[0.8527471]\n",
            "\n",
            "\n",
            "The ending was so sad and yet so uplifting at the same time. \n",
            " I'm looking for an excuse to see it again\n",
            "[0.7578018]\n",
            "\n",
            "\n",
            "I had expected so much more from a movie made by the director \n",
            " who made my most favorite movie ever, I was very disappointed in the tedious \n",
            " story\n",
            "[0.02466859]\n",
            "\n",
            "\n",
            "I wish I could watch this movie every day for the rest of my life\n",
            "[0.13708359]\n",
            "\n",
            "\n"
          ]
        }
      ]
    },
    {
      "cell_type": "code",
      "source": [
        "print(\"===========================\\n\",\"With bidirectional GRU\\n\", \"============================\")\n",
        "predict_review(model_gru, more_reviews)"
      ],
      "metadata": {
        "colab": {
          "base_uri": "https://localhost:8080/"
        },
        "id": "nUFF8YUtny2h",
        "outputId": "890b5e10-ede9-4524-ad1b-365f602e8093"
      },
      "execution_count": 22,
      "outputs": [
        {
          "output_type": "stream",
          "name": "stdout",
          "text": [
            "===========================\n",
            " With bidirectional GRU\n",
            " ============================\n",
            "I loved this movie\n",
            "[0.4787942]\n",
            "\n",
            "\n",
            "that was the worst movie I've ever seen\n",
            "[0.23740138]\n",
            "\n",
            "\n",
            "too much violence even for a Bond film\n",
            "[0.22740227]\n",
            "\n",
            "\n",
            "a captivating recounting of a cherished myth\n",
            "[0.4944841]\n",
            "\n",
            "\n",
            "I saw this movie yesterday and I was feeling low to start with,\n",
            " but it was such a wonderful movie that it lifted my spirits and brightened \n",
            " my day, you can't go wrong with a movie with Whoopi Goldberg in it.\n",
            "[0.12428451]\n",
            "\n",
            "\n",
            "I don't understand why it received an oscar recommendation\n",
            " for best movie, it was long and boring\n",
            "[0.13242032]\n",
            "\n",
            "\n",
            "the scenery was magnificent, the CGI of the dogs was so realistic I\n",
            " thought they were played by real dogs even though they talked!\n",
            "[0.11382867]\n",
            "\n",
            "\n",
            "The ending was so sad and yet so uplifting at the same time. \n",
            " I'm looking for an excuse to see it again\n",
            "[0.32920566]\n",
            "\n",
            "\n",
            "I had expected so much more from a movie made by the director \n",
            " who made my most favorite movie ever, I was very disappointed in the tedious \n",
            " story\n",
            "[0.05499273]\n",
            "\n",
            "\n",
            "I wish I could watch this movie every day for the rest of my life\n",
            "[0.36669597]\n",
            "\n",
            "\n"
          ]
        }
      ]
    },
    {
      "cell_type": "code",
      "source": [
        "print(\"===========================\\n\", \"With a single bidirectional LSTM:\\n\", \"===========================\")\n",
        "predict_review(model_bidi_lstm, more_reviews)"
      ],
      "metadata": {
        "colab": {
          "base_uri": "https://localhost:8080/"
        },
        "id": "mSg_cN6Wn03G",
        "outputId": "1d99a83d-cc48-422e-f58c-3b0b97c95a2d"
      },
      "execution_count": 23,
      "outputs": [
        {
          "output_type": "stream",
          "name": "stdout",
          "text": [
            "===========================\n",
            " With a single bidirectional LSTM:\n",
            " ===========================\n",
            "I loved this movie\n",
            "[0.55173975]\n",
            "\n",
            "\n",
            "that was the worst movie I've ever seen\n",
            "[0.30473673]\n",
            "\n",
            "\n",
            "too much violence even for a Bond film\n",
            "[0.43274358]\n",
            "\n",
            "\n",
            "a captivating recounting of a cherished myth\n",
            "[0.60451925]\n",
            "\n",
            "\n",
            "I saw this movie yesterday and I was feeling low to start with,\n",
            " but it was such a wonderful movie that it lifted my spirits and brightened \n",
            " my day, you can't go wrong with a movie with Whoopi Goldberg in it.\n",
            "[0.3136159]\n",
            "\n",
            "\n",
            "I don't understand why it received an oscar recommendation\n",
            " for best movie, it was long and boring\n",
            "[0.27656296]\n",
            "\n",
            "\n",
            "the scenery was magnificent, the CGI of the dogs was so realistic I\n",
            " thought they were played by real dogs even though they talked!\n",
            "[0.26913413]\n",
            "\n",
            "\n",
            "The ending was so sad and yet so uplifting at the same time. \n",
            " I'm looking for an excuse to see it again\n",
            "[0.45932472]\n",
            "\n",
            "\n",
            "I had expected so much more from a movie made by the director \n",
            " who made my most favorite movie ever, I was very disappointed in the tedious \n",
            " story\n",
            "[0.2216911]\n",
            "\n",
            "\n",
            "I wish I could watch this movie every day for the rest of my life\n",
            "[0.7015743]\n",
            "\n",
            "\n"
          ]
        }
      ]
    },
    {
      "cell_type": "code",
      "source": [
        "print(\"===========================\\n\", \"With multiple bidirectional LSTM:\\n\", \"==========================\")\n",
        "predict_review(model_multiple_bidi_lstm, more_reviews)"
      ],
      "metadata": {
        "colab": {
          "base_uri": "https://localhost:8080/"
        },
        "id": "ap5EXHOAn24r",
        "outputId": "7007f5b0-64fb-417b-8137-b476666e89ae"
      },
      "execution_count": 24,
      "outputs": [
        {
          "output_type": "stream",
          "name": "stdout",
          "text": [
            "===========================\n",
            " With multiple bidirectional LSTM:\n",
            " ==========================\n",
            "I loved this movie\n",
            "[0.9788903]\n",
            "\n",
            "\n",
            "that was the worst movie I've ever seen\n",
            "[0.51313233]\n",
            "\n",
            "\n",
            "too much violence even for a Bond film\n",
            "[0.00947889]\n",
            "\n",
            "\n",
            "a captivating recounting of a cherished myth\n",
            "[0.99378985]\n",
            "\n",
            "\n",
            "I saw this movie yesterday and I was feeling low to start with,\n",
            " but it was such a wonderful movie that it lifted my spirits and brightened \n",
            " my day, you can't go wrong with a movie with Whoopi Goldberg in it.\n",
            "[0.9854498]\n",
            "\n",
            "\n",
            "I don't understand why it received an oscar recommendation\n",
            " for best movie, it was long and boring\n",
            "[0.9991648]\n",
            "\n",
            "\n",
            "the scenery was magnificent, the CGI of the dogs was so realistic I\n",
            " thought they were played by real dogs even though they talked!\n",
            "[0.97208124]\n",
            "\n",
            "\n",
            "The ending was so sad and yet so uplifting at the same time. \n",
            " I'm looking for an excuse to see it again\n",
            "[0.9988444]\n",
            "\n",
            "\n",
            "I had expected so much more from a movie made by the director \n",
            " who made my most favorite movie ever, I was very disappointed in the tedious \n",
            " story\n",
            "[0.01327608]\n",
            "\n",
            "\n",
            "I wish I could watch this movie every day for the rest of my life\n",
            "[0.00938805]\n",
            "\n",
            "\n"
          ]
        }
      ]
    }
  ]
}