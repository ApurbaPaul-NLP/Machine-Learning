{
  "nbformat": 4,
  "nbformat_minor": 0,
  "metadata": {
    "colab": {
      "name": "22.08.2022-Introduction to modules, layers, and models.ipynb",
      "provenance": [],
      "authorship_tag": "ABX9TyNivWJXV2bEQoQgqMfzTgF3",
      "include_colab_link": true
    },
    "kernelspec": {
      "name": "python3",
      "display_name": "Python 3"
    },
    "language_info": {
      "name": "python"
    }
  },
  "cells": [
    {
      "cell_type": "markdown",
      "metadata": {
        "id": "view-in-github",
        "colab_type": "text"
      },
      "source": [
        "<a href=\"https://colab.research.google.com/github/ApurbaPaul-NLP/Machine-Learning/blob/main/22_08_2022_Introduction_to_modules%2C_layers%2C_and_models.ipynb\" target=\"_parent\"><img src=\"https://colab.research.google.com/assets/colab-badge.svg\" alt=\"Open In Colab\"/></a>"
      ]
    },
    {
      "cell_type": "markdown",
      "source": [
        "A model is, abstractly A function that computes something on tensors.\n",
        "\n",
        "Here in a Model Some variables can be updated in response to training."
      ],
      "metadata": {
        "id": "UQ9R-inc-vgb"
      }
    },
    {
      "cell_type": "code",
      "execution_count": 1,
      "metadata": {
        "id": "I1KO_yzX9Qs_"
      },
      "outputs": [],
      "source": [
        "import tensorflow as tf\n",
        "import numpy as np\n",
        "# Load the TensorBoard notebook extension\n",
        "%load_ext tensorboard"
      ]
    },
    {
      "cell_type": "markdown",
      "source": [
        "In TensorFlow, most high-level implementations of layers and models, such as Keras or Sonnet, are built on the same foundational class: tf.Module."
      ],
      "metadata": {
        "id": "wL7cbSvaAq6K"
      }
    },
    {
      "cell_type": "code",
      "source": [
        "class SimpleModule(tf.Module):\n",
        "  def __init__(self, name=None):\n",
        "    super().__init__(name=name)\n",
        "    self.a_variable = tf.Variable(5.0, name=\"train_me\")\n",
        "    self.non_trainable_variable = tf.Variable(5.0, trainable=False, name=\"do_not_train_me\")\n",
        "  def __call__(self, x):\n",
        "    return self.a_variable * x + self.non_trainable_variable\n",
        "\n",
        "simple_module = SimpleModule(name=\"simple\")\n",
        "\n",
        "simple_module(tf.constant(5.0))"
      ],
      "metadata": {
        "colab": {
          "base_uri": "https://localhost:8080/"
        },
        "id": "HpzKYY2fA_pI",
        "outputId": "fa2082ef-e11d-4441-f5eb-272e0ef3ef9a"
      },
      "execution_count": 2,
      "outputs": [
        {
          "output_type": "execute_result",
          "data": {
            "text/plain": [
              "<tf.Tensor: shape=(), dtype=float32, numpy=30.0>"
            ]
          },
          "metadata": {},
          "execution_count": 2
        }
      ]
    },
    {
      "cell_type": "code",
      "source": [
        "# All trainable variables\n",
        "print(\"trainable variables:\", simple_module.trainable_variables)\n",
        "# Every variable\n",
        "print(\"all variables:\", simple_module.variables)"
      ],
      "metadata": {
        "colab": {
          "base_uri": "https://localhost:8080/"
        },
        "id": "8QMOBHHwfi-E",
        "outputId": "6d86de53-b828-494b-f33d-1e406d4c7951"
      },
      "execution_count": 8,
      "outputs": [
        {
          "output_type": "stream",
          "name": "stdout",
          "text": [
            "trainable variables: (<tf.Variable 'train_me:0' shape=() dtype=float32, numpy=5.0>,)\n",
            "all variables: (<tf.Variable 'train_me:0' shape=() dtype=float32, numpy=5.0>, <tf.Variable 'do_not_train_me:0' shape=() dtype=float32, numpy=5.0>)\n"
          ]
        }
      ]
    },
    {
      "cell_type": "markdown",
      "source": [
        "# **What is a \"callable\"?**"
      ],
      "metadata": {
        "id": "sfbeX7y6fXu6"
      }
    },
    {
      "cell_type": "code",
      "source": [
        "class Foo:\n",
        "  def __call__(self):\n",
        "    print ('called')\n",
        "\n",
        "foo_instance = Foo()\n",
        "foo_instance()"
      ],
      "metadata": {
        "colab": {
          "base_uri": "https://localhost:8080/"
        },
        "id": "TfqoH_MWcmDm",
        "outputId": "98fd7102-a6e2-4843-d49d-ea8d1957cc67"
      },
      "execution_count": 3,
      "outputs": [
        {
          "output_type": "stream",
          "name": "stdout",
          "text": [
            "called\n"
          ]
        }
      ]
    },
    {
      "cell_type": "markdown",
      "source": [
        "    Consider this foo() as foo.__call__() in the above example.\n",
        "\n",
        "    Where foo can be any object that responds to __call__. \n",
        "\n",
        "When I say any object, I mean it: built-in types, your own classes and their instances.\n",
        "\n",
        "In the case of built-in types, when you write:\n",
        "\n",
        "      int('10')\n",
        "\n",
        "      unicode(10)\n",
        "\n",
        "You're essentially doing:\n",
        "\n",
        "        int.__call__('10')\n",
        "\n",
        "        unicode.__call__(10)\n",
        "\n",
        "You're essentially doing \n",
        "\n",
        "      type(int).__call__(int, '10') and \n",
        "\n",
        "      type(unicode).__call__(unicode, '10')\n",
        "\n",
        "\n",
        "\n",
        "    __call__ makes any object be callable as a function.\n",
        "\n",
        "    In Python a callable is an object which type has a __call__ method.\n",
        "\n",
        "To check function or method of class is callable or not that means we can call that function.\n",
        "    \n",
        "\n"
      ],
      "metadata": {
        "id": "ZL6lNSTxdYud"
      }
    },
    {
      "cell_type": "code",
      "source": [
        "class Adder(object):\n",
        "  def __init__(self, val):\n",
        "    self.val = val\n",
        "\n",
        "  def __call__(self, val):\n",
        "    return self.val + val\n",
        "\n",
        "func = Adder(5)\n",
        "print (func(3))"
      ],
      "metadata": {
        "colab": {
          "base_uri": "https://localhost:8080/"
        },
        "id": "2r7Egt6LeUfP",
        "outputId": "8cdaf4a6-fc7f-4674-b36a-506a35150f23"
      },
      "execution_count": 4,
      "outputs": [
        {
          "output_type": "stream",
          "name": "stdout",
          "text": [
            "8\n"
          ]
        }
      ]
    },
    {
      "cell_type": "code",
      "source": [
        "class A:\n",
        "    def __init__(self,val):\n",
        "        self.val = val\n",
        "    def bar(self):\n",
        "        print (\"bar\")\n",
        "\n",
        "obj = A(8)      \n",
        "callable(obj.bar)"
      ],
      "metadata": {
        "colab": {
          "base_uri": "https://localhost:8080/"
        },
        "id": "v9y6iFvve9Kk",
        "outputId": "a4cd824e-9014-4a9a-98b4-5fbb13fb15a2"
      },
      "execution_count": 6,
      "outputs": [
        {
          "output_type": "execute_result",
          "data": {
            "text/plain": [
              "True"
            ]
          },
          "metadata": {},
          "execution_count": 6
        }
      ]
    },
    {
      "cell_type": "markdown",
      "source": [
        "# **Here is an example of a two-layer linear layer model made out of modules.**"
      ],
      "metadata": {
        "id": "ALEGbeHbgRlE"
      }
    },
    {
      "cell_type": "code",
      "source": [
        "#First a dense (linear) layer:\n",
        "class Dense(tf.Module):\n",
        "  def __init__(self,in_features,out_features,name=None):\n",
        "    super().__init__(name=name)\n",
        "    self.w=tf.Variable(tf.random.normal([in_features,out_features]),name='w')\n",
        "    self.b=tf.Variable(tf.zeros([out_features]),name='b')\n",
        "\n",
        "  def __call__(self,x):\n",
        "    y=tf.matmul(x,self.w)+self.b\n",
        "    return tf.nn.relu(y)  "
      ],
      "metadata": {
        "id": "OCzM10PLgToQ"
      },
      "execution_count": 10,
      "outputs": []
    },
    {
      "cell_type": "code",
      "source": [
        "# The complete model, which makes two layer instances and applies them:\n",
        "class SimpleModule(tf.Module):\n",
        "  def __init__(self,name=None):\n",
        "    super().__init__(name=name)\n",
        "\n",
        "    self.dense1=Dense(in_features=3,out_features=3)  \n",
        "    self.dense2=Dense(in_features=3,out_features=2)\n",
        "\n",
        "  def __call__(self,x):\n",
        "    x=self.dense1(x)\n",
        "    return self.dense2(x)  \n",
        "\n",
        "mymodule=SimpleModule(name=\"the_Model\") \n",
        "print(mymodule(tf.constant([[2.,2.,2.]])))   "
      ],
      "metadata": {
        "colab": {
          "base_uri": "https://localhost:8080/"
        },
        "id": "XIap5tjKhRRv",
        "outputId": "ae5ff17f-c0aa-4486-e7e8-74a275135fd8"
      },
      "execution_count": 18,
      "outputs": [
        {
          "output_type": "stream",
          "name": "stdout",
          "text": [
            "tf.Tensor([[0. 0.]], shape=(1, 2), dtype=float32)\n"
          ]
        }
      ]
    },
    {
      "cell_type": "code",
      "source": [
        "print(\"Submodules:\", mymodule.submodules)"
      ],
      "metadata": {
        "colab": {
          "base_uri": "https://localhost:8080/"
        },
        "id": "10ipxbpcja1q",
        "outputId": "aeeb97e5-4506-4dff-faf7-fab5241b0068"
      },
      "execution_count": 19,
      "outputs": [
        {
          "output_type": "stream",
          "name": "stdout",
          "text": [
            "Submodules: (<__main__.Dense object at 0x7fbbf5f9ad50>, <__main__.Dense object at 0x7fbbf5f9a110>)\n"
          ]
        }
      ]
    },
    {
      "cell_type": "code",
      "source": [
        "for var in mymodule.variables:\n",
        "  print(var, \"\\n\")"
      ],
      "metadata": {
        "colab": {
          "base_uri": "https://localhost:8080/"
        },
        "id": "-nLDVk62ji08",
        "outputId": "1e206e84-acc0-4ab2-85ad-b3532a34a3bd"
      },
      "execution_count": 20,
      "outputs": [
        {
          "output_type": "stream",
          "name": "stdout",
          "text": [
            "<tf.Variable 'b:0' shape=(3,) dtype=float32, numpy=array([0., 0., 0.], dtype=float32)> \n",
            "\n",
            "<tf.Variable 'w:0' shape=(3, 3) dtype=float32, numpy=\n",
            "array([[ 0.20196287,  1.3003284 ,  1.257852  ],\n",
            "       [-0.7809273 ,  0.2719014 , -1.395672  ],\n",
            "       [ 0.8206721 , -2.3030934 ,  0.52513075]], dtype=float32)> \n",
            "\n",
            "<tf.Variable 'b:0' shape=(2,) dtype=float32, numpy=array([0., 0.], dtype=float32)> \n",
            "\n",
            "<tf.Variable 'w:0' shape=(3, 2) dtype=float32, numpy=\n",
            "array([[ 0.72945565,  0.93910336],\n",
            "       [ 1.3968815 ,  1.1923939 ],\n",
            "       [-0.7697298 , -0.74939656]], dtype=float32)> \n",
            "\n"
          ]
        }
      ]
    }
  ]
}