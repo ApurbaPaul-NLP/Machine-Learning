{
  "nbformat": 4,
  "nbformat_minor": 0,
  "metadata": {
    "colab": {
      "name": "22.08.2022-Introduction to modules, layers, and models.ipynb",
      "provenance": [],
      "mount_file_id": "1sKEbntmiOy3cp0g0pdfkhfuFwjwY-4T0",
      "authorship_tag": "ABX9TyNtJZhySHhJRvOxVEcHfV+Y",
      "include_colab_link": true
    },
    "kernelspec": {
      "name": "python3",
      "display_name": "Python 3"
    },
    "language_info": {
      "name": "python"
    }
  },
  "cells": [
    {
      "cell_type": "markdown",
      "metadata": {
        "id": "view-in-github",
        "colab_type": "text"
      },
      "source": [
        "<a href=\"https://colab.research.google.com/github/ApurbaPaul-NLP/Machine-Learning/blob/main/22_08_2022_Introduction_to_modules%2C_layers%2C_and_models.ipynb\" target=\"_parent\"><img src=\"https://colab.research.google.com/assets/colab-badge.svg\" alt=\"Open In Colab\"/></a>"
      ]
    },
    {
      "cell_type": "markdown",
      "source": [
        "A model is, abstractly A function that computes something on tensors.\n",
        "\n",
        "Here in a Model Some variables can be updated in response to training."
      ],
      "metadata": {
        "id": "UQ9R-inc-vgb"
      }
    },
    {
      "cell_type": "code",
      "execution_count": 1,
      "metadata": {
        "id": "I1KO_yzX9Qs_"
      },
      "outputs": [],
      "source": [
        "import tensorflow as tf\n",
        "import numpy as np\n",
        "# Load the TensorBoard notebook extension\n",
        "%load_ext tensorboard"
      ]
    },
    {
      "cell_type": "markdown",
      "source": [
        "In TensorFlow, most high-level implementations of layers and models, such as Keras or Sonnet, are built on the same foundational class: tf.Module."
      ],
      "metadata": {
        "id": "wL7cbSvaAq6K"
      }
    },
    {
      "cell_type": "code",
      "source": [
        "class SimpleModule(tf.Module):\n",
        "  def __init__(self, name=None):\n",
        "    super().__init__(name=name)\n",
        "    self.a_variable = tf.Variable(5.0, name=\"train_me\")\n",
        "    self.non_trainable_variable = tf.Variable(5.0, trainable=False, name=\"do_not_train_me\")\n",
        "  def __call__(self, x):\n",
        "    return self.a_variable * x + self.non_trainable_variable\n",
        "\n",
        "simple_module = SimpleModule(name=\"simple\")\n",
        "\n",
        "simple_module(tf.constant(5.0)).numpy()"
      ],
      "metadata": {
        "colab": {
          "base_uri": "https://localhost:8080/"
        },
        "id": "HpzKYY2fA_pI",
        "outputId": "d7c3b5d8-e64b-40e8-d17c-25578c675b73"
      },
      "execution_count": 4,
      "outputs": [
        {
          "output_type": "execute_result",
          "data": {
            "text/plain": [
              "30.0"
            ]
          },
          "metadata": {},
          "execution_count": 4
        }
      ]
    },
    {
      "cell_type": "code",
      "source": [
        "# All trainable variables\n",
        "print(\"trainable variables:\", simple_module.trainable_variables)\n",
        "# Every variable\n",
        "print(\"all variables:\", simple_module.variables)"
      ],
      "metadata": {
        "colab": {
          "base_uri": "https://localhost:8080/"
        },
        "id": "8QMOBHHwfi-E",
        "outputId": "049a4244-af15-421b-fe5b-177507fa3195"
      },
      "execution_count": 8,
      "outputs": [
        {
          "output_type": "stream",
          "name": "stdout",
          "text": [
            "trainable variables: (<tf.Variable 'train_me:0' shape=() dtype=float32, numpy=5.0>,)\n",
            "all variables: (<tf.Variable 'train_me:0' shape=() dtype=float32, numpy=5.0>, <tf.Variable 'do_not_train_me:0' shape=() dtype=float32, numpy=5.0>)\n"
          ]
        }
      ]
    },
    {
      "cell_type": "markdown",
      "source": [
        "# **What is a \"callable\"?**"
      ],
      "metadata": {
        "id": "sfbeX7y6fXu6"
      }
    },
    {
      "cell_type": "code",
      "source": [
        "class Foo:\n",
        "  def __call__(self):\n",
        "    print ('called')\n",
        "\n",
        "foo_instance = Foo()\n",
        "foo_instance()"
      ],
      "metadata": {
        "colab": {
          "base_uri": "https://localhost:8080/"
        },
        "id": "TfqoH_MWcmDm",
        "outputId": "300a102d-a248-4326-d486-9d002f58ffe1"
      },
      "execution_count": 9,
      "outputs": [
        {
          "output_type": "stream",
          "name": "stdout",
          "text": [
            "called\n"
          ]
        }
      ]
    },
    {
      "cell_type": "markdown",
      "source": [
        "    Consider this foo() as foo.__call__() in the above example.\n",
        "\n",
        "    Where foo can be any object that responds to __call__. \n",
        "\n",
        "When I say any object, I mean it: built-in types, your own classes and their instances.\n",
        "\n",
        "In the case of built-in types, when you write:\n",
        "\n",
        "      int('10')\n",
        "\n",
        "      unicode(10)\n",
        "\n",
        "You're essentially doing:\n",
        "\n",
        "        int.__call__('10')\n",
        "\n",
        "        unicode.__call__(10)\n",
        "\n",
        "You're essentially doing \n",
        "\n",
        "      type(int).__call__(int, '10') and \n",
        "\n",
        "      type(unicode).__call__(unicode, '10')\n",
        "\n",
        "\n",
        "\n",
        "    __call__ makes any object be callable as a function.\n",
        "\n",
        "    In Python a callable is an object which type has a __call__ method.\n",
        "\n",
        "To check function or method of class is callable or not that means we can call that function.\n",
        "    \n",
        "\n"
      ],
      "metadata": {
        "id": "ZL6lNSTxdYud"
      }
    },
    {
      "cell_type": "code",
      "source": [
        "class Adder(object):\n",
        "  def __init__(self, val):\n",
        "    self.val = val\n",
        "\n",
        "  def __call__(self, val):\n",
        "    return self.val + val\n",
        "\n",
        "func = Adder(5)\n",
        "print (func(3))"
      ],
      "metadata": {
        "colab": {
          "base_uri": "https://localhost:8080/"
        },
        "id": "2r7Egt6LeUfP",
        "outputId": "8cdaf4a6-fc7f-4674-b36a-506a35150f23"
      },
      "execution_count": null,
      "outputs": [
        {
          "output_type": "stream",
          "name": "stdout",
          "text": [
            "8\n"
          ]
        }
      ]
    },
    {
      "cell_type": "code",
      "source": [
        "class A:\n",
        "    def __init__(self,val):\n",
        "        self.val = val\n",
        "    def bar(self):\n",
        "        print (\"bar\")\n",
        "\n",
        "obj = A(8)      \n",
        "callable(obj.bar)"
      ],
      "metadata": {
        "colab": {
          "base_uri": "https://localhost:8080/"
        },
        "id": "v9y6iFvve9Kk",
        "outputId": "a4cd824e-9014-4a9a-98b4-5fbb13fb15a2"
      },
      "execution_count": null,
      "outputs": [
        {
          "output_type": "execute_result",
          "data": {
            "text/plain": [
              "True"
            ]
          },
          "metadata": {},
          "execution_count": 6
        }
      ]
    },
    {
      "cell_type": "markdown",
      "source": [
        "# **Here is an example of a two-layer linear layer model made out of modules.**"
      ],
      "metadata": {
        "id": "ALEGbeHbgRlE"
      }
    },
    {
      "cell_type": "code",
      "source": [
        "#First a dense (linear) layer:\n",
        "class Dense(tf.Module):\n",
        "  def __init__(self,in_features,out_features,name=None):\n",
        "    super().__init__(name=name)\n",
        "    self.w=tf.Variable(tf.random.normal([in_features,out_features]),name='w')\n",
        "    self.b=tf.Variable(tf.zeros([out_features]),name='b')\n",
        "\n",
        "  def __call__(self,x):\n",
        "    y=tf.matmul(x,self.w)+self.b\n",
        "    return tf.nn.relu(y)  "
      ],
      "metadata": {
        "id": "OCzM10PLgToQ"
      },
      "execution_count": 10,
      "outputs": []
    },
    {
      "cell_type": "code",
      "source": [
        "# The complete model, which makes two layer instances and applies them:\n",
        "class SimpleModule(tf.Module):\n",
        "  def __init__(self,name=None):\n",
        "    super().__init__(name=name)\n",
        "\n",
        "    self.dense1=Dense(in_features=3,out_features=3)  \n",
        "    self.dense2=Dense(in_features=3,out_features=2)\n",
        "\n",
        "  def __call__(self,x):\n",
        "    x=self.dense1(x)\n",
        "    return self.dense2(x)  \n",
        "\n",
        "mymodule=SimpleModule(name=\"the_Model\") \n",
        "print(mymodule(tf.constant([[2.,2.,2.]])))   "
      ],
      "metadata": {
        "colab": {
          "base_uri": "https://localhost:8080/"
        },
        "id": "XIap5tjKhRRv",
        "outputId": "68a2019a-4a33-43d8-ae4a-1561b0b9fa16"
      },
      "execution_count": 11,
      "outputs": [
        {
          "output_type": "stream",
          "name": "stdout",
          "text": [
            "tf.Tensor([[0.       7.978698]], shape=(1, 2), dtype=float32)\n"
          ]
        }
      ]
    },
    {
      "cell_type": "code",
      "source": [
        "print(\"Submodules:\", mymodule.submodules)"
      ],
      "metadata": {
        "colab": {
          "base_uri": "https://localhost:8080/"
        },
        "id": "10ipxbpcja1q",
        "outputId": "80a1cab7-daee-491c-8050-e369c656d001"
      },
      "execution_count": 12,
      "outputs": [
        {
          "output_type": "stream",
          "name": "stdout",
          "text": [
            "Submodules: (<__main__.Dense object at 0x7f4ae6214b90>, <__main__.Dense object at 0x7f4ae6210510>)\n"
          ]
        }
      ]
    },
    {
      "cell_type": "code",
      "source": [
        "for var in mymodule.variables:\n",
        "  print(var, \"\\n\")"
      ],
      "metadata": {
        "id": "-nLDVk62ji08",
        "outputId": "0a9f9e18-daca-4434-ba2c-84892c13e42b",
        "colab": {
          "base_uri": "https://localhost:8080/"
        }
      },
      "execution_count": 13,
      "outputs": [
        {
          "output_type": "stream",
          "name": "stdout",
          "text": [
            "<tf.Variable 'b:0' shape=(3,) dtype=float32, numpy=array([0., 0., 0.], dtype=float32)> \n",
            "\n",
            "<tf.Variable 'w:0' shape=(3, 3) dtype=float32, numpy=\n",
            "array([[ 1.1072123 , -0.26831588,  1.5347631 ],\n",
            "       [ 2.2944863 , -0.41903457,  0.28044468],\n",
            "       [-0.4710366 ,  0.79274863, -0.27444416]], dtype=float32)> \n",
            "\n",
            "<tf.Variable 'b:0' shape=(2,) dtype=float32, numpy=array([0., 0.], dtype=float32)> \n",
            "\n",
            "<tf.Variable 'w:0' shape=(3, 2) dtype=float32, numpy=\n",
            "array([[-1.0740916 ,  1.1413937 ],\n",
            "       [ 0.21701065, -0.5652781 ],\n",
            "       [-1.9099013 ,  0.45684454]], dtype=float32)> \n",
            "\n"
          ]
        }
      ]
    },
    {
      "cell_type": "code",
      "source": [
        "import tensorflow as tf"
      ],
      "metadata": {
        "id": "ISwu9lfOAb16"
      },
      "execution_count": 15,
      "outputs": []
    },
    {
      "cell_type": "code",
      "source": [
        "class FlexibleDenseModule(tf.Module):\n",
        "  def __init__(self,out_features,name=None):\n",
        "    super().__init__(name=name)\n",
        "    self.is_built = False\n",
        "    self.out_features = out_features\n",
        "    \n",
        "  def __call__(self,x):\n",
        "    if not self.is_built:\n",
        "      self.w=tf.Variable(tf.random.normal([x.shape[-1],self.out_features]),name='w')\n",
        "      self.b=tf.Variable(tf.zeros(self.out_features),name='b')\n",
        "      self.is_built=True\n",
        "    \n",
        "    y=tf.matmul(x,self.w)+self.b\n",
        "    return tf.nn.relu(y)"
      ],
      "metadata": {
        "id": "p95AexHhBQN7"
      },
      "execution_count": 41,
      "outputs": []
    },
    {
      "cell_type": "code",
      "source": [
        "class MySequentialModule(tf.Module):\n",
        "  def __init__(self,name=None):\n",
        "    super().__init__(name=name)\n",
        "\n",
        "    self.dense1=FlexibleDenseModule(out_features=20)\n",
        "    self.dense2=FlexibleDenseModule(out_features=15)\n",
        "    self.dense3=FlexibleDenseModule(out_features=10)\n",
        "    self.dense4=FlexibleDenseModule(out_features=5)\n",
        "    self.dense5=FlexibleDenseModule(out_features=2)\n",
        "\n",
        "  def __call__(self,x):\n",
        "    x=self.dense1(x)\n",
        "    x=self.dense2(x)\n",
        "    x=self.dense3(x)\n",
        "    x=self.dense4(x)\n",
        "    return self.dense5(x)\n",
        "mymodel=MySequentialModule(name='The_Model')\n",
        "print(mymodel(tf.constant([[2.,2.,2.,2.,2.,2.,2.,2.,2.,2.,2.,2.,2.,2.,2.,2.,2.,2.,2.,2.]]).numpy())      )"
      ],
      "metadata": {
        "colab": {
          "base_uri": "https://localhost:8080/"
        },
        "id": "2NMN8uqMBbik",
        "outputId": "967153bf-9855-4e75-919a-6ea47374b5aa"
      },
      "execution_count": 47,
      "outputs": [
        {
          "output_type": "stream",
          "name": "stdout",
          "text": [
            "tf.Tensor([[186.19736 450.93634]], shape=(1, 2), dtype=float32)\n"
          ]
        }
      ]
    },
    {
      "cell_type": "markdown",
      "source": [
        "# **Saving weights**"
      ],
      "metadata": {
        "id": "tqfwQLMqEsxi"
      }
    },
    {
      "cell_type": "markdown",
      "source": [
        "You can save a tf.Module as both a checkpoint and a SavedModel.\n",
        "\n",
        "Checkpoints are just the weights (that is, the values of the set of variables inside the module and its submodules):"
      ],
      "metadata": {
        "id": "WHreXlDJEvwg"
      }
    },
    {
      "cell_type": "code",
      "source": [
        "chkp_path = \"/content/drive/MyDrive/TENSORLFOW/my_checkpoint-26.08.2022\"\n",
        "checkpoint=tf.train.Checkpoint(model=mymodel)\n",
        "checkpoint.write(chkp_path)"
      ],
      "metadata": {
        "colab": {
          "base_uri": "https://localhost:8080/",
          "height": 36
        },
        "id": "Y4N_UVCeDF8X",
        "outputId": "70cc385c-eb4e-4fb3-a406-12d185198fcd"
      },
      "execution_count": 48,
      "outputs": [
        {
          "output_type": "execute_result",
          "data": {
            "text/plain": [
              "'/content/drive/MyDrive/TENSORLFOW/my_checkpoint-26.08.2022'"
            ],
            "application/vnd.google.colaboratory.intrinsic+json": {
              "type": "string"
            }
          },
          "metadata": {},
          "execution_count": 48
        }
      ]
    },
    {
      "cell_type": "markdown",
      "source": [
        "Checkpoints consist of two kinds of files: the data itself and an index file for metadata. \n",
        "\n",
        "The index file keeps track of what is actually saved and the numbering of checkpoints\n",
        "\n",
        "The checkpoint data contains the variable values and their attribute lookup paths."
      ],
      "metadata": {
        "id": "xz60QMrCFzVb"
      }
    },
    {
      "cell_type": "code",
      "source": [
        "!ls /content/drive/MyDrive/TENSORLFOW/my_checkpoint-26.08.2022*"
      ],
      "metadata": {
        "colab": {
          "base_uri": "https://localhost:8080/"
        },
        "id": "cSVQLMA_FZO6",
        "outputId": "29f916be-518b-40a3-eaa0-f469c74d7fa4"
      },
      "execution_count": 49,
      "outputs": [
        {
          "output_type": "stream",
          "name": "stdout",
          "text": [
            "/content/drive/MyDrive/TENSORLFOW/my_checkpoint-26.08.2022.data-00000-of-00001\n",
            "/content/drive/MyDrive/TENSORLFOW/my_checkpoint-26.08.2022.index\n"
          ]
        }
      ]
    },
    {
      "cell_type": "code",
      "source": [
        "tf.train.list_variables(chkp_path)"
      ],
      "metadata": {
        "colab": {
          "base_uri": "https://localhost:8080/"
        },
        "id": "hVbTHVKJGCEF",
        "outputId": "aac274a3-a7c6-48b8-f4c5-58438aa2f42c"
      },
      "execution_count": 50,
      "outputs": [
        {
          "output_type": "execute_result",
          "data": {
            "text/plain": [
              "[('_CHECKPOINTABLE_OBJECT_GRAPH', []),\n",
              " ('model/dense1/b/.ATTRIBUTES/VARIABLE_VALUE', [20]),\n",
              " ('model/dense1/w/.ATTRIBUTES/VARIABLE_VALUE', [20, 20]),\n",
              " ('model/dense2/b/.ATTRIBUTES/VARIABLE_VALUE', [15]),\n",
              " ('model/dense2/w/.ATTRIBUTES/VARIABLE_VALUE', [20, 15]),\n",
              " ('model/dense3/b/.ATTRIBUTES/VARIABLE_VALUE', [10]),\n",
              " ('model/dense3/w/.ATTRIBUTES/VARIABLE_VALUE', [15, 10]),\n",
              " ('model/dense4/b/.ATTRIBUTES/VARIABLE_VALUE', [5]),\n",
              " ('model/dense4/w/.ATTRIBUTES/VARIABLE_VALUE', [10, 5]),\n",
              " ('model/dense5/b/.ATTRIBUTES/VARIABLE_VALUE', [2]),\n",
              " ('model/dense5/w/.ATTRIBUTES/VARIABLE_VALUE', [5, 2])]"
            ]
          },
          "metadata": {},
          "execution_count": 50
        }
      ]
    },
    {
      "cell_type": "code",
      "source": [
        "new_model = MySequentialModule()\n",
        "new_checkpoint = tf.train.Checkpoint(model=new_model)\n",
        "new_checkpoint.restore(\"/content/drive/MyDrive/TENSORLFOW/my_checkpoint-26.08.2022\")\n",
        "\n",
        "# Should be the same result as above\n",
        "new_model(tf.constant([[2.,2.,2.,2.,2.,2.,2.,2.,2.,2.,2.,2.,2.,2.,2.,2.,2.,2.,2.,2.]]))"
      ],
      "metadata": {
        "colab": {
          "base_uri": "https://localhost:8080/"
        },
        "id": "HivROiagG4g2",
        "outputId": "16a284c8-9139-463d-f55a-b37e5da7a332"
      },
      "execution_count": 53,
      "outputs": [
        {
          "output_type": "execute_result",
          "data": {
            "text/plain": [
              "<tf.Tensor: shape=(1, 2), dtype=float32, numpy=array([[186.19736, 450.93634]], dtype=float32)>"
            ]
          },
          "metadata": {},
          "execution_count": 53
        }
      ]
    }
  ]
}