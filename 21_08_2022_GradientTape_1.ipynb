{
  "nbformat": 4,
  "nbformat_minor": 0,
  "metadata": {
    "colab": {
      "name": "21.08.2022-GradientTape-1.ipynb",
      "provenance": [],
      "authorship_tag": "ABX9TyNkWZ7gfxeGTcpZbMS3v+LV",
      "include_colab_link": true
    },
    "kernelspec": {
      "name": "python3",
      "display_name": "Python 3"
    },
    "language_info": {
      "name": "python"
    }
  },
  "cells": [
    {
      "cell_type": "markdown",
      "metadata": {
        "id": "view-in-github",
        "colab_type": "text"
      },
      "source": [
        "<a href=\"https://colab.research.google.com/github/ApurbaPaul-NLP/Machine-Learning/blob/main/21_08_2022_GradientTape_1.ipynb\" target=\"_parent\"><img src=\"https://colab.research.google.com/assets/colab-badge.svg\" alt=\"Open In Colab\"/></a>"
      ]
    },
    {
      "cell_type": "code",
      "execution_count": 2,
      "metadata": {
        "id": "P2HhHyMxa1Vz"
      },
      "outputs": [],
      "source": [
        "import tensorflow as tf\n",
        "import numpy as np\n",
        "import matplotlib.pyplot as plt\n"
      ]
    },
    {
      "cell_type": "code",
      "source": [
        "x=tf.Variable([[1.0,2.0,3.0],[4.0,5.0,6.0]],dtype=tf.float32)\n",
        "print(x.numpy())"
      ],
      "metadata": {
        "colab": {
          "base_uri": "https://localhost:8080/"
        },
        "id": "atlctITBbBDb",
        "outputId": "652d0f73-926e-4c7e-d68e-15aa78268aa9"
      },
      "execution_count": 8,
      "outputs": [
        {
          "output_type": "stream",
          "name": "stdout",
          "text": [
            "[[1. 2. 3.]\n",
            " [4. 5. 6.]]\n"
          ]
        }
      ]
    },
    {
      "cell_type": "code",
      "source": [
        "with tf.GradientTape(persistent=True) as tape:\n",
        "  y=x**2\n",
        "print(tape.gradient(y,x).numpy()  )"
      ],
      "metadata": {
        "colab": {
          "base_uri": "https://localhost:8080/"
        },
        "id": "Cv-K3WCfbH9V",
        "outputId": "00be79b7-d89c-4445-c58f-c656082160ed"
      },
      "execution_count": 9,
      "outputs": [
        {
          "output_type": "stream",
          "name": "stdout",
          "text": [
            "[[ 2.  4.  6.]\n",
            " [ 8. 10. 12.]]\n"
          ]
        }
      ]
    },
    {
      "cell_type": "code",
      "source": [
        "tf.random.normal((3, 2))"
      ],
      "metadata": {
        "colab": {
          "base_uri": "https://localhost:8080/"
        },
        "id": "Cx7zK9dEdLS7",
        "outputId": "a96df563-7873-4d35-99e7-feaa3b902e4e"
      },
      "execution_count": 15,
      "outputs": [
        {
          "output_type": "execute_result",
          "data": {
            "text/plain": [
              "<tf.Tensor: shape=(3, 2), dtype=float32, numpy=\n",
              "array([[-1.2128224 ,  0.73177063],\n",
              "       [ 1.674952  ,  2.197606  ],\n",
              "       [ 0.45466396,  0.84965634]], dtype=float32)>"
            ]
          },
          "metadata": {},
          "execution_count": 15
        }
      ]
    },
    {
      "cell_type": "code",
      "source": [
        "tf.zeros(2, dtype=tf.float32)"
      ],
      "metadata": {
        "colab": {
          "base_uri": "https://localhost:8080/"
        },
        "id": "9cWZycK6dqsO",
        "outputId": "f003a8ae-7695-453b-9135-c3703cacd5e7"
      },
      "execution_count": 19,
      "outputs": [
        {
          "output_type": "execute_result",
          "data": {
            "text/plain": [
              "<tf.Tensor: shape=(2,), dtype=float32, numpy=array([0., 0.], dtype=float32)>"
            ]
          },
          "metadata": {},
          "execution_count": 19
        }
      ]
    },
    {
      "cell_type": "code",
      "source": [
        "x=tf.Variable([[3.,4.]])\n",
        "x.shape"
      ],
      "metadata": {
        "colab": {
          "base_uri": "https://localhost:8080/"
        },
        "id": "pVx4-_Fqd48D",
        "outputId": "0f1d00c4-6ed6-44fb-8a03-23cf3a82038f"
      },
      "execution_count": 24,
      "outputs": [
        {
          "output_type": "execute_result",
          "data": {
            "text/plain": [
              "TensorShape([1, 2])"
            ]
          },
          "metadata": {},
          "execution_count": 24
        }
      ]
    },
    {
      "cell_type": "code",
      "source": [
        "tf.Variable([[1.,2.,3.],[4.,5.,6.]]).shape"
      ],
      "metadata": {
        "colab": {
          "base_uri": "https://localhost:8080/"
        },
        "id": "IAG8SxS8d9lw",
        "outputId": "50cd9dfd-c1e5-46e2-a286-6eea38929cd1"
      },
      "execution_count": 25,
      "outputs": [
        {
          "output_type": "execute_result",
          "data": {
            "text/plain": [
              "TensorShape([2, 3])"
            ]
          },
          "metadata": {},
          "execution_count": 25
        }
      ]
    },
    {
      "cell_type": "code",
      "source": [
        "w=tf.Variable([[1.,2.,3.],[4.,5.,6.]],dtype=tf.float32,name='w')\n",
        "b=tf.Variable([4.,5.,6.],dtype=tf.float32,name='b')\n",
        "x=tf.Variable([[3.,4.]])\n",
        "with tf.GradientTape(persistent=True) as tape:\n",
        "  y=x@w+b\n",
        "  loss = tf.reduce_mean(y**2)\n",
        "print(tape.gradient(y,x).numpy())  \n",
        "print(tape.gradient(loss,x).numpy()) "
      ],
      "metadata": {
        "colab": {
          "base_uri": "https://localhost:8080/"
        },
        "id": "FkmCjspLbgmO",
        "outputId": "7f4096d5-8e4d-4bd2-ddb4-f80050fe2fc0"
      },
      "execution_count": 27,
      "outputs": [
        {
          "output_type": "stream",
          "name": "stdout",
          "text": [
            "[[ 6. 15.]]\n",
            "[[134.66667 320.6667 ]]\n"
          ]
        }
      ]
    },
    {
      "cell_type": "code",
      "source": [
        "w=tf.Variable([[1.,2.,3.],[4.,5.,6.]],dtype=tf.float32,name='w')\n",
        "b=tf.Variable([4.,5.,6.],dtype=tf.float32,name='b')\n",
        "x=tf.Variable([[3.,4.]])\n",
        "with tf.GradientTape(persistent=True) as tape:\n",
        "  y=x@w+b\n",
        "  loss = tf.reduce_mean(y**2)\n",
        "print(tape.gradient(y,x).numpy())  \n",
        "print(tape.gradient(loss,[w,b]))\n",
        "[p,q]=tape.gradient(loss,[w,b])\n",
        "print()\n",
        "print(p.numpy())\n",
        "print()\n",
        "print(q.numpy())"
      ],
      "metadata": {
        "colab": {
          "base_uri": "https://localhost:8080/"
        },
        "id": "koHKq7e7cVVy",
        "outputId": "4a4b33d9-d349-491e-f30f-38da501efce9"
      },
      "execution_count": 8,
      "outputs": [
        {
          "output_type": "stream",
          "name": "stdout",
          "text": [
            "[[ 6. 15.]]\n",
            "[<tf.Tensor: shape=(2, 3), dtype=float32, numpy=\n",
            "array([[ 46.      ,  62.000004,  78.      ],\n",
            "       [ 61.333336,  82.66667 , 104.      ]], dtype=float32)>, <tf.Tensor: shape=(3,), dtype=float32, numpy=array([15.333334, 20.666668, 26.      ], dtype=float32)>]\n",
            "\n",
            "[[ 46.        62.000004  78.      ]\n",
            " [ 61.333336  82.66667  104.      ]]\n",
            "\n",
            "[15.333334 20.666668 26.      ]\n"
          ]
        }
      ]
    },
    {
      "cell_type": "code",
      "source": [
        "x = tf.Variable(2.0)\n",
        "with tf.GradientTape() as tape:\n",
        "  y0 = x**2\n",
        "  y1 = 1 / x\n",
        "#y0=2x\n",
        "#y1=-1/x^2\n",
        "print(tape.gradient({'y0': y0, 'y1': y1}, x).numpy())  #Here the result is 2x-1/x^2"
      ],
      "metadata": {
        "colab": {
          "base_uri": "https://localhost:8080/"
        },
        "id": "hP4g2RFIyP1U",
        "outputId": "01a9995e-83f9-42d3-f184-155e61bba0e0"
      },
      "execution_count": 9,
      "outputs": [
        {
          "output_type": "stream",
          "name": "stdout",
          "text": [
            "3.75\n"
          ]
        }
      ]
    },
    {
      "cell_type": "code",
      "source": [
        "x = tf.Variable(2.)\n",
        "\n",
        "with tf.GradientTape() as tape:\n",
        "  y = x * [3., 4.]\n",
        "\n",
        "print(tape.gradient(y, x).numpy())#Here the result will be the sum of all the elements of the list"
      ],
      "metadata": {
        "colab": {
          "base_uri": "https://localhost:8080/"
        },
        "id": "zxsivBG-05ob",
        "outputId": "ab6118f5-f935-4189-cda9-d48890fc5fb3"
      },
      "execution_count": 10,
      "outputs": [
        {
          "output_type": "stream",
          "name": "stdout",
          "text": [
            "7.0\n"
          ]
        }
      ]
    },
    {
      "cell_type": "code",
      "source": [
        "x = tf.Variable(2.)\n",
        "\n",
        "with tf.GradientTape() as tape:\n",
        "  y = x * [3., 4.,5.,6.]\n",
        "\n",
        "print(tape.gradient(y, x).numpy()) #Here the result will be the sum of all the elements of the list"
      ],
      "metadata": {
        "colab": {
          "base_uri": "https://localhost:8080/"
        },
        "id": "7HIcB9G41CbH",
        "outputId": "216a22d1-7526-448b-fcd4-6b46485cd80a"
      },
      "execution_count": 11,
      "outputs": [
        {
          "output_type": "stream",
          "name": "stdout",
          "text": [
            "18.0\n"
          ]
        }
      ]
    },
    {
      "cell_type": "code",
      "source": [
        "x = tf.Variable(2.)\n",
        "\n",
        "with tf.GradientTape() as tape:\n",
        "  y = x**2 * [3., 4.,5.,6.]\n",
        "\n",
        "print(tape.gradient(y, x).numpy()) #Here the result will be 2x*(the sum of all the elements of the list)== 2*2.0*18.0=72.0"
      ],
      "metadata": {
        "colab": {
          "base_uri": "https://localhost:8080/"
        },
        "id": "YOVOlqWJ1V3e",
        "outputId": "d652856a-ce23-4642-9dc6-aef6a6b50a4d"
      },
      "execution_count": 12,
      "outputs": [
        {
          "output_type": "stream",
          "name": "stdout",
          "text": [
            "72.0\n"
          ]
        }
      ]
    },
    {
      "cell_type": "code",
      "source": [
        "x = tf.linspace(-10.0, 10.0, 200+1)\n",
        "\n",
        "with tf.GradientTape() as tape:\n",
        "  tape.watch(x)\n",
        "  y = tf.nn.sigmoid(x)\n",
        "\n",
        "dy_dx = tape.gradient(y, x)\n",
        "plt.plot(x, y, label='y')\n",
        "plt.plot(x, dy_dx, label='dy/dx')\n",
        "plt.legend()\n",
        "_ = plt.xlabel('x')"
      ],
      "metadata": {
        "colab": {
          "base_uri": "https://localhost:8080/",
          "height": 279
        },
        "id": "gY5s0NGN18UM",
        "outputId": "ada76c8d-6447-4795-a28f-ccee4a08270b"
      },
      "execution_count": 13,
      "outputs": [
        {
          "output_type": "display_data",
          "data": {
            "text/plain": [
              "<Figure size 432x288 with 1 Axes>"
            ],
            "image/png": "[encoded data removed]"
          },
          "metadata": {
            "needs_background": "light"
          }
        }
      ]
    },
    {
      "cell_type": "code",
      "source": [
        "x = tf.linspace(-10.0, 10.0, 200+1)\n",
        "\n",
        "with tf.GradientTape(persistent=True) as tape:\n",
        "  tape.watch(x)\n",
        "  y0 = tf.nn.sigmoid(x)\n",
        "  y1 = tf.nn.tanh(x)\n",
        "  y2 = tf.nn.softmax(x)\n",
        "\n",
        "dy0_dx = tape.gradient(y0, x)\n",
        "dy1_dx = tape.gradient(y1, x)\n",
        "dy2_dx = tape.gradient(y2, x)\n",
        "plt.plot(x, y, label='y')\n",
        "plt.plot(x, dy0_dx, label='dy0/dx')\n",
        "plt.plot(x, dy1_dx, label='dy1/dx')\n",
        "plt.plot(x, dy2_dx, label='dy2/dx')\n",
        "plt.legend()\n",
        "_ = plt.xlabel('x')"
      ],
      "metadata": {
        "colab": {
          "base_uri": "https://localhost:8080/",
          "height": 279
        },
        "id": "szJI_-xD2IbU",
        "outputId": "60b604a3-c0b6-4b3e-b613-d48e39833d53"
      },
      "execution_count": 15,
      "outputs": [
        {
          "output_type": "display_data",
          "data": {
            "text/plain": [
              "<Figure size 432x288 with 1 Axes>"
            ],
            "image/png": "[encoded data removed]"
          },
          "metadata": {
            "needs_background": "light"
          }
        }
      ]
    },
    {
      "cell_type": "code",
      "source": [
        "x = tf.constant(1.0)\n",
        "\n",
        "v0 = tf.Variable(2.0)\n",
        "v1 = tf.Variable(2.0)\n",
        "\n",
        "with tf.GradientTape(persistent=True) as tape:\n",
        "  tape.watch(x)\n",
        "  if x > 0.0:\n",
        "    result = v0\n",
        "  else:\n",
        "    result = v1**2 \n",
        "\n",
        "dv0, dv1 = tape.gradient(result, [v0, v1])\n",
        "\n",
        "print(dv0)\n",
        "print(dv1)\n",
        "\n",
        "dx = tape.gradient(result, x)\n",
        "\n",
        "print(dx)"
      ],
      "metadata": {
        "colab": {
          "base_uri": "https://localhost:8080/"
        },
        "id": "SWhx4dyv2vmf",
        "outputId": "b56043bd-f746-426f-ab40-14ff611a4e94"
      },
      "execution_count": 16,
      "outputs": [
        {
          "output_type": "stream",
          "name": "stdout",
          "text": [
            "tf.Tensor(1.0, shape=(), dtype=float32)\n",
            "None\n",
            "None\n"
          ]
        }
      ]
    },
    {
      "cell_type": "code",
      "source": [
        "x = tf.Variable(2.0)\n",
        "\n",
        "for epoch in range(10):\n",
        "  with tf.GradientTape() as tape:\n",
        "    y = x**3\n",
        "\n",
        "  print(type(x).__name__, \":\", tape.gradient(y, x).numpy())\n",
        "  x.assign_add(1)"
      ],
      "metadata": {
        "colab": {
          "base_uri": "https://localhost:8080/"
        },
        "id": "pyPUkg_I3Gqo",
        "outputId": "131961cb-3ae0-4847-e198-2ab4c2ce9f8e"
      },
      "execution_count": 19,
      "outputs": [
        {
          "output_type": "stream",
          "name": "stdout",
          "text": [
            "ResourceVariable : 12.0\n",
            "ResourceVariable : 27.0\n",
            "ResourceVariable : 48.0\n",
            "ResourceVariable : 75.0\n",
            "ResourceVariable : 108.0\n",
            "ResourceVariable : 147.0\n",
            "ResourceVariable : 192.0\n",
            "ResourceVariable : 243.0\n",
            "ResourceVariable : 300.0\n",
            "ResourceVariable : 363.0\n"
          ]
        }
      ]
    },
    {
      "cell_type": "code",
      "source": [
        "# x = tf.constant(10) # Integer will not work for getting Gradient\n",
        "x = tf.constant(10.0) # To get the Gradient we need Float\n",
        "\n",
        "with tf.GradientTape() as g:\n",
        "  g.watch(x)\n",
        "  y = x * x\n",
        "\n",
        "print(g.gradient(y, x).numpy())"
      ],
      "metadata": {
        "colab": {
          "base_uri": "https://localhost:8080/"
        },
        "id": "RR1sP33C3ziB",
        "outputId": "23bb3487-824c-4e7f-cefa-bd567981b210"
      },
      "execution_count": 22,
      "outputs": [
        {
          "output_type": "stream",
          "name": "stdout",
          "text": [
            "20.0\n"
          ]
        }
      ]
    }
  ]
}